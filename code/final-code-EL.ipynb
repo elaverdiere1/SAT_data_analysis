{
 "cells": [
  {
   "cell_type": "markdown",
   "metadata": {},
   "source": [
    "# Project 1: SAT & ACT Analysis"
   ]
  },
  {
   "cell_type": "markdown",
   "metadata": {},
   "source": [
    "\n",
    "## Problem Statement"
   ]
  },
  {
   "cell_type": "markdown",
   "metadata": {},
   "source": [
    "<span style=\"color:blue\">\n",
    "    \n",
    "The College Board has created a new more simplified version of the SAT as of 2016 and wants to increase participation across the Country.\n",
    "    \n",
    "The team I am working with has been asked to look into a way to increase participation nationwide and in particular look at the model of certain states like Colorado, Rhode Island, and Illinois. These state recently went up to 100% participation and could be a model for other states that have low participation."
   ]
  },
  {
   "cell_type": "markdown",
   "metadata": {},
   "source": [
    "# Executive Summary\n",
    "\n",
    "\n",
    "### Contents:\n",
    "- [2017 Data Import & Cleaning](#Data-Import-and-Cleaning)\n",
    "- [2018 Data Import and Cleaning](#2018-Data-Import-and-Cleaning)\n",
    "- [2019 Data Import and Cleaning](#2019-Data-Import-and-Cleaning)\n",
    " - [Combine your 2017, 2018, and 2019 data into a single dataframe](#Combine-your-2017,-2018,-and-2019-data-into-a-single-dataframe)\n",
    "- [Exploratory Data Analysis](#Exploratory-Data-Analysis)\n",
    " - [Investigate trends in the data](#Investigate-trends-in-the-data)\n",
    "- [Data Visualization](#Visualize-the-data)\n",
    " - [Plot and interpret histograms](#Plot-and-interpret-histograms)\n",
    " - [Plot and interpret scatter plots](#Plot-and-interpret-scatter-plots)\n",
    " - [Plot and interpret boxplots](#Plot-and-interpret-boxplots)\n",
    " - [Additional Plots](#Additional-Plots)\n",
    "- [Descriptive and Inferential Statistics](#Descriptive-and-Inferential-Statistics)\n",
    "- [Outside Research](#Outside-Research)\n",
    "- [Conclusions and Recommendations](#Conclusions-and-Recommendations)\n",
    "- [What Next](#What-Next)\n",
    "\n",
    "\n",
    "<span style=\"color:blue\">\n",
    "    \n",
    "Things to look into in this report.\n",
    "- What do the participation rates look like over the years for 2017 - 2019 for the SAT and ACT.\n",
    "- What do the test scores look like over the years for 2017 - 2019 for the SAT and ACT.\n",
    "- Do the participation rates and scores have any correlation and what can be learned from that?\n",
    "- How can this information be used when trying to get a state to increse SAT participation?\n",
    "- What states might be best to target for incresing participation?\n"
   ]
  },
  {
   "cell_type": "markdown",
   "metadata": {},
   "source": [
    "**If you combine your problem statement, executive summary, data dictionary, and conclusions/recommendations, you have an amazing README.md file that quickly aligns your audience to the contents of your project.** Don't forget to cite your data sources!"
   ]
  },
  {
   "cell_type": "markdown",
   "metadata": {},
   "source": [
    "*All libraries used should be added here*"
   ]
  },
  {
   "cell_type": "code",
   "execution_count": 1,
   "metadata": {},
   "outputs": [],
   "source": [
    "import numpy as np\n",
    "import matplotlib.pyplot as plt\n",
    "import scipy.stats as stats\n",
    "import pandas as pd\n",
    "import seaborn as sns"
   ]
  },
  {
   "cell_type": "markdown",
   "metadata": {},
   "source": [
    "## 2017 Data Import and Cleaning"
   ]
  },
  {
   "cell_type": "markdown",
   "metadata": {},
   "source": [
    "#### 1. Read In SAT & ACT  Data\n",
    "\n",
    "Read in the `sat_2017.csv` and `act_2017.csv` files and assign them to appropriately named pandas dataframes."
   ]
  },
  {
   "cell_type": "code",
   "execution_count": 2,
   "metadata": {},
   "outputs": [],
   "source": [
    "sat2017 = pd.read_csv('./../data/sat_2017.csv')\n",
    "act2017 = pd.read_csv('./../data/act_2017.csv')"
   ]
  },
  {
   "cell_type": "markdown",
   "metadata": {},
   "source": [
    "#### 2. Display Data\n",
    "\n",
    "Print the first 10 rows of each dataframe to your jupyter notebook"
   ]
  },
  {
   "cell_type": "code",
   "execution_count": 3,
   "metadata": {},
   "outputs": [
    {
     "data": {
      "text/html": [
       "<div>\n",
       "<style scoped>\n",
       "    .dataframe tbody tr th:only-of-type {\n",
       "        vertical-align: middle;\n",
       "    }\n",
       "\n",
       "    .dataframe tbody tr th {\n",
       "        vertical-align: top;\n",
       "    }\n",
       "\n",
       "    .dataframe thead th {\n",
       "        text-align: right;\n",
       "    }\n",
       "</style>\n",
       "<table border=\"1\" class=\"dataframe\">\n",
       "  <thead>\n",
       "    <tr style=\"text-align: right;\">\n",
       "      <th></th>\n",
       "      <th>State</th>\n",
       "      <th>Participation</th>\n",
       "      <th>Evidence-Based Reading and Writing</th>\n",
       "      <th>Math</th>\n",
       "      <th>Total</th>\n",
       "    </tr>\n",
       "  </thead>\n",
       "  <tbody>\n",
       "    <tr>\n",
       "      <th>0</th>\n",
       "      <td>Alabama</td>\n",
       "      <td>5%</td>\n",
       "      <td>593</td>\n",
       "      <td>572</td>\n",
       "      <td>1165</td>\n",
       "    </tr>\n",
       "    <tr>\n",
       "      <th>1</th>\n",
       "      <td>Alaska</td>\n",
       "      <td>38%</td>\n",
       "      <td>547</td>\n",
       "      <td>533</td>\n",
       "      <td>1080</td>\n",
       "    </tr>\n",
       "    <tr>\n",
       "      <th>2</th>\n",
       "      <td>Arizona</td>\n",
       "      <td>30%</td>\n",
       "      <td>563</td>\n",
       "      <td>553</td>\n",
       "      <td>1116</td>\n",
       "    </tr>\n",
       "    <tr>\n",
       "      <th>3</th>\n",
       "      <td>Arkansas</td>\n",
       "      <td>3%</td>\n",
       "      <td>614</td>\n",
       "      <td>594</td>\n",
       "      <td>1208</td>\n",
       "    </tr>\n",
       "    <tr>\n",
       "      <th>4</th>\n",
       "      <td>California</td>\n",
       "      <td>53%</td>\n",
       "      <td>531</td>\n",
       "      <td>524</td>\n",
       "      <td>1055</td>\n",
       "    </tr>\n",
       "    <tr>\n",
       "      <th>5</th>\n",
       "      <td>Colorado</td>\n",
       "      <td>11%</td>\n",
       "      <td>606</td>\n",
       "      <td>595</td>\n",
       "      <td>1201</td>\n",
       "    </tr>\n",
       "    <tr>\n",
       "      <th>6</th>\n",
       "      <td>Connecticut</td>\n",
       "      <td>100%</td>\n",
       "      <td>530</td>\n",
       "      <td>512</td>\n",
       "      <td>1041</td>\n",
       "    </tr>\n",
       "    <tr>\n",
       "      <th>7</th>\n",
       "      <td>Delaware</td>\n",
       "      <td>100%</td>\n",
       "      <td>503</td>\n",
       "      <td>492</td>\n",
       "      <td>996</td>\n",
       "    </tr>\n",
       "    <tr>\n",
       "      <th>8</th>\n",
       "      <td>District of Columbia</td>\n",
       "      <td>100%</td>\n",
       "      <td>482</td>\n",
       "      <td>468</td>\n",
       "      <td>950</td>\n",
       "    </tr>\n",
       "    <tr>\n",
       "      <th>9</th>\n",
       "      <td>Florida</td>\n",
       "      <td>83%</td>\n",
       "      <td>520</td>\n",
       "      <td>497</td>\n",
       "      <td>1017</td>\n",
       "    </tr>\n",
       "  </tbody>\n",
       "</table>\n",
       "</div>"
      ],
      "text/plain": [
       "                  State Participation  Evidence-Based Reading and Writing  \\\n",
       "0               Alabama            5%                                 593   \n",
       "1                Alaska           38%                                 547   \n",
       "2               Arizona           30%                                 563   \n",
       "3              Arkansas            3%                                 614   \n",
       "4            California           53%                                 531   \n",
       "5              Colorado           11%                                 606   \n",
       "6           Connecticut          100%                                 530   \n",
       "7              Delaware          100%                                 503   \n",
       "8  District of Columbia          100%                                 482   \n",
       "9               Florida           83%                                 520   \n",
       "\n",
       "   Math  Total  \n",
       "0   572   1165  \n",
       "1   533   1080  \n",
       "2   553   1116  \n",
       "3   594   1208  \n",
       "4   524   1055  \n",
       "5   595   1201  \n",
       "6   512   1041  \n",
       "7   492    996  \n",
       "8   468    950  \n",
       "9   497   1017  "
      ]
     },
     "execution_count": 3,
     "metadata": {},
     "output_type": "execute_result"
    }
   ],
   "source": [
    "sat2017.head(10)\n"
   ]
  },
  {
   "cell_type": "code",
   "execution_count": 4,
   "metadata": {},
   "outputs": [
    {
     "data": {
      "text/html": [
       "<div>\n",
       "<style scoped>\n",
       "    .dataframe tbody tr th:only-of-type {\n",
       "        vertical-align: middle;\n",
       "    }\n",
       "\n",
       "    .dataframe tbody tr th {\n",
       "        vertical-align: top;\n",
       "    }\n",
       "\n",
       "    .dataframe thead th {\n",
       "        text-align: right;\n",
       "    }\n",
       "</style>\n",
       "<table border=\"1\" class=\"dataframe\">\n",
       "  <thead>\n",
       "    <tr style=\"text-align: right;\">\n",
       "      <th></th>\n",
       "      <th>State</th>\n",
       "      <th>Participation</th>\n",
       "      <th>English</th>\n",
       "      <th>Math</th>\n",
       "      <th>Reading</th>\n",
       "      <th>Science</th>\n",
       "      <th>Composite</th>\n",
       "    </tr>\n",
       "  </thead>\n",
       "  <tbody>\n",
       "    <tr>\n",
       "      <th>0</th>\n",
       "      <td>National</td>\n",
       "      <td>60%</td>\n",
       "      <td>20.3</td>\n",
       "      <td>20.7</td>\n",
       "      <td>21.4</td>\n",
       "      <td>21.0</td>\n",
       "      <td>21.0</td>\n",
       "    </tr>\n",
       "    <tr>\n",
       "      <th>1</th>\n",
       "      <td>Alabama</td>\n",
       "      <td>100%</td>\n",
       "      <td>18.9</td>\n",
       "      <td>18.4</td>\n",
       "      <td>19.7</td>\n",
       "      <td>19.4</td>\n",
       "      <td>19.2</td>\n",
       "    </tr>\n",
       "    <tr>\n",
       "      <th>2</th>\n",
       "      <td>Alaska</td>\n",
       "      <td>65%</td>\n",
       "      <td>18.7</td>\n",
       "      <td>19.8</td>\n",
       "      <td>20.4</td>\n",
       "      <td>19.9</td>\n",
       "      <td>19.8</td>\n",
       "    </tr>\n",
       "    <tr>\n",
       "      <th>3</th>\n",
       "      <td>Arizona</td>\n",
       "      <td>62%</td>\n",
       "      <td>18.6</td>\n",
       "      <td>19.8</td>\n",
       "      <td>20.1</td>\n",
       "      <td>19.8</td>\n",
       "      <td>19.7</td>\n",
       "    </tr>\n",
       "    <tr>\n",
       "      <th>4</th>\n",
       "      <td>Arkansas</td>\n",
       "      <td>100%</td>\n",
       "      <td>18.9</td>\n",
       "      <td>19.0</td>\n",
       "      <td>19.7</td>\n",
       "      <td>19.5</td>\n",
       "      <td>19.4</td>\n",
       "    </tr>\n",
       "    <tr>\n",
       "      <th>5</th>\n",
       "      <td>California</td>\n",
       "      <td>31%</td>\n",
       "      <td>22.5</td>\n",
       "      <td>22.7</td>\n",
       "      <td>23.1</td>\n",
       "      <td>22.2</td>\n",
       "      <td>22.8</td>\n",
       "    </tr>\n",
       "    <tr>\n",
       "      <th>6</th>\n",
       "      <td>Colorado</td>\n",
       "      <td>100%</td>\n",
       "      <td>20.1</td>\n",
       "      <td>20.3</td>\n",
       "      <td>21.2</td>\n",
       "      <td>20.9</td>\n",
       "      <td>20.8</td>\n",
       "    </tr>\n",
       "    <tr>\n",
       "      <th>7</th>\n",
       "      <td>Connecticut</td>\n",
       "      <td>31%</td>\n",
       "      <td>25.5</td>\n",
       "      <td>24.6</td>\n",
       "      <td>25.6</td>\n",
       "      <td>24.6</td>\n",
       "      <td>25.2</td>\n",
       "    </tr>\n",
       "    <tr>\n",
       "      <th>8</th>\n",
       "      <td>Delaware</td>\n",
       "      <td>18%</td>\n",
       "      <td>24.1</td>\n",
       "      <td>23.4</td>\n",
       "      <td>24.8</td>\n",
       "      <td>23.6</td>\n",
       "      <td>24.1</td>\n",
       "    </tr>\n",
       "    <tr>\n",
       "      <th>9</th>\n",
       "      <td>District of Columbia</td>\n",
       "      <td>32%</td>\n",
       "      <td>24.4</td>\n",
       "      <td>23.5</td>\n",
       "      <td>24.9</td>\n",
       "      <td>23.5</td>\n",
       "      <td>24.2</td>\n",
       "    </tr>\n",
       "  </tbody>\n",
       "</table>\n",
       "</div>"
      ],
      "text/plain": [
       "                  State Participation  English  Math  Reading  Science  \\\n",
       "0              National           60%     20.3  20.7     21.4     21.0   \n",
       "1               Alabama          100%     18.9  18.4     19.7     19.4   \n",
       "2                Alaska           65%     18.7  19.8     20.4     19.9   \n",
       "3               Arizona           62%     18.6  19.8     20.1     19.8   \n",
       "4              Arkansas          100%     18.9  19.0     19.7     19.5   \n",
       "5            California           31%     22.5  22.7     23.1     22.2   \n",
       "6              Colorado          100%     20.1  20.3     21.2     20.9   \n",
       "7           Connecticut           31%     25.5  24.6     25.6     24.6   \n",
       "8              Delaware           18%     24.1  23.4     24.8     23.6   \n",
       "9  District of Columbia           32%     24.4  23.5     24.9     23.5   \n",
       "\n",
       "  Composite  \n",
       "0      21.0  \n",
       "1      19.2  \n",
       "2      19.8  \n",
       "3      19.7  \n",
       "4      19.4  \n",
       "5      22.8  \n",
       "6      20.8  \n",
       "7      25.2  \n",
       "8      24.1  \n",
       "9      24.2  "
      ]
     },
     "execution_count": 4,
     "metadata": {},
     "output_type": "execute_result"
    }
   ],
   "source": [
    "act2017.head(10)            "
   ]
  },
  {
   "cell_type": "code",
   "execution_count": 5,
   "metadata": {},
   "outputs": [
    {
     "data": {
      "text/plain": [
       "(51, 5)"
      ]
     },
     "execution_count": 5,
     "metadata": {},
     "output_type": "execute_result"
    }
   ],
   "source": [
    "sat2017.shape"
   ]
  },
  {
   "cell_type": "markdown",
   "metadata": {},
   "source": [
    "#### 3. Verbally Describe Data\n",
    "\n"
   ]
  },
  {
   "cell_type": "markdown",
   "metadata": {},
   "source": [
    "<span style=\"color:blue\">\n",
    "\n",
    "\n",
    "The two data sets both show the sat and act scores of each state and the District of Columbia so 51 rows. The data is divided by participation of the state then the average of the scores from each different test category and the average of the overall score.  These are set out as state in each row and the different values in the columns."
   ]
  },
  {
   "cell_type": "markdown",
   "metadata": {},
   "source": [
    "#### 4a. Does the data look complete? "
   ]
  },
  {
   "cell_type": "markdown",
   "metadata": {},
   "source": [
    "<span style=\"color:blue\">\n",
    "\n",
    "The data seems complete I see 51 rows one for each state and the District of Columbia and no column has any empty spots"
   ]
  },
  {
   "cell_type": "markdown",
   "metadata": {},
   "source": [
    "#### 4b. Are there any obvious issues with the observations?\n",
    "\n"
   ]
  },
  {
   "cell_type": "markdown",
   "metadata": {},
   "source": [
    "<span style=\"color:blue\">\n",
    "\n",
    "Issue on the composite line 52 of Wyoming it says 20.2x.  There is also a possible issue with the Maryland math score for SAT 2017, it is below the possible of 200 minimum. It is supposed to be 524. The Maryland science score for ACT 2017 was also wrong at 2.3 though the original data said 23.2.\n",
    "the sat scores range from 200 to 800 for each subject and 400 to 1600 total\n",
    "The act scores range fom 1 to 36 on all and average that for the composite"
   ]
  },
  {
   "cell_type": "markdown",
   "metadata": {},
   "source": [
    "#### 4c. Fix any errors you identified\n"
   ]
  },
  {
   "cell_type": "code",
   "execution_count": 6,
   "metadata": {},
   "outputs": [],
   "source": [
    "act2017.at[51, 'Composite'] = 20.2\n",
    "sat2017.at[20, 'Math'] = 524\n",
    "act2017.at[21, 'Science'] = 23.2\n",
    "# fixing errors in code"
   ]
  },
  {
   "cell_type": "markdown",
   "metadata": {},
   "source": [
    "#### 5. What are your data types? \n"
   ]
  },
  {
   "cell_type": "code",
   "execution_count": 7,
   "metadata": {},
   "outputs": [
    {
     "data": {
      "text/plain": [
       "State                                 object\n",
       "Participation                         object\n",
       "Evidence-Based Reading and Writing     int64\n",
       "Math                                   int64\n",
       "Total                                  int64\n",
       "dtype: object"
      ]
     },
     "execution_count": 7,
     "metadata": {},
     "output_type": "execute_result"
    }
   ],
   "source": [
    "sat2017.dtypes\n",
    "#checking types"
   ]
  },
  {
   "cell_type": "code",
   "execution_count": 8,
   "metadata": {},
   "outputs": [
    {
     "data": {
      "text/plain": [
       "State             object\n",
       "Participation     object\n",
       "English          float64\n",
       "Math             float64\n",
       "Reading          float64\n",
       "Science          float64\n",
       "Composite         object\n",
       "dtype: object"
      ]
     },
     "execution_count": 8,
     "metadata": {},
     "output_type": "execute_result"
    }
   ],
   "source": [
    "act2017.dtypes"
   ]
  },
  {
   "cell_type": "markdown",
   "metadata": {},
   "source": [
    " "
   ]
  },
  {
   "cell_type": "markdown",
   "metadata": {},
   "source": [
    "<span style=\"color:blue\">\n",
    "\n",
    "The participation percent on both tests is an object along with the composite of the act2017"
   ]
  },
  {
   "cell_type": "markdown",
   "metadata": {},
   "source": [
    "#### 6. Fix Incorrect Data Types\n"
   ]
  },
  {
   "cell_type": "code",
   "execution_count": 9,
   "metadata": {},
   "outputs": [],
   "source": [
    "#changing percent to a number to use instead of an object\n",
    "def convert_percent(val):\n",
    "    new_val = val.replace('%', '')\n",
    "    return float(new_val)\n",
    "\n",
    "# code used from  https://pbpython.com/pandas_dtypes.html "
   ]
  },
  {
   "cell_type": "code",
   "execution_count": 10,
   "metadata": {},
   "outputs": [],
   "source": [
    "sat2017['Participation'] = sat2017['Participation'].apply(convert_percent)"
   ]
  },
  {
   "cell_type": "code",
   "execution_count": 11,
   "metadata": {},
   "outputs": [],
   "source": [
    "act2017['Participation'] = act2017['Participation'].apply(convert_percent)"
   ]
  },
  {
   "cell_type": "code",
   "execution_count": 12,
   "metadata": {},
   "outputs": [],
   "source": [
    "act2017['Composite'] = pd.to_numeric(act2017['Composite'])"
   ]
  },
  {
   "cell_type": "code",
   "execution_count": 13,
   "metadata": {},
   "outputs": [
    {
     "data": {
      "text/plain": [
       "State                                  object\n",
       "Participation                         float64\n",
       "Evidence-Based Reading and Writing      int64\n",
       "Math                                    int64\n",
       "Total                                   int64\n",
       "dtype: object"
      ]
     },
     "execution_count": 13,
     "metadata": {},
     "output_type": "execute_result"
    }
   ],
   "source": [
    "sat2017.dtypes"
   ]
  },
  {
   "cell_type": "code",
   "execution_count": 14,
   "metadata": {},
   "outputs": [
    {
     "data": {
      "text/plain": [
       "State             object\n",
       "Participation    float64\n",
       "English          float64\n",
       "Math             float64\n",
       "Reading          float64\n",
       "Science          float64\n",
       "Composite        float64\n",
       "dtype: object"
      ]
     },
     "execution_count": 14,
     "metadata": {},
     "output_type": "execute_result"
    }
   ],
   "source": [
    "act2017.dtypes"
   ]
  },
  {
   "cell_type": "markdown",
   "metadata": {},
   "source": [
    "#### 7. Rename Columns\n"
   ]
  },
  {
   "cell_type": "code",
   "execution_count": 15,
   "metadata": {},
   "outputs": [],
   "source": [
    "# renaming the columns\n",
    "sat2017.rename(columns={'State' : 'state',\n",
    "                        'Participation':'sat17_participation',\n",
    "                        'Evidence-Based Reading and Writing': 'sat17_writing',\n",
    "                       'Math': 'sat17_math',\n",
    "                       'Total': 'sat17_total'}, inplace=True)"
   ]
  },
  {
   "cell_type": "code",
   "execution_count": 16,
   "metadata": {},
   "outputs": [],
   "source": [
    "act2017.rename(columns={'State' : 'state',\n",
    "                        'Participation':'act17_participation',\n",
    "                        'English': 'act17_english',\n",
    "                       'Math': 'act17_math',\n",
    "                       'Reading': 'act17_reading',\n",
    "                       'Science': 'act17_science',\n",
    "                       'Composite': 'act17_composite'}, inplace=True)"
   ]
  },
  {
   "cell_type": "markdown",
   "metadata": {},
   "source": [
    "#### 8. Create a data dictionary\n",
    "\n",
    "Now that we've fixed our data, and given it appropriate names, let's create a [data dictionary](http://library.ucmerced.edu/node/10249). \n",
    "\n",
    "A data dictionary provides a quick overview of features/variables/columns, alongside data types and descriptions. The more descriptive you can be, the more useful this document is.\n",
    "\n",
    "Example of a Fictional Data Dictionary Entry: \n",
    "\n",
    "|Feature|Type|Dataset|Description|\n",
    "|---|---|---|---|\n",
    "|**county_pop**|*integer*|2010 census|The population of the county (units in thousands, where 2.5 represents 2500 people).| \n",
    "|**per_poverty**|*float*|2010 census|The percent of the county over the age of 18 living below the 200% of official US poverty rate (units percent to two decimal places 98.10 means 98.1%)|\n",
    "\n",
    "[Here's a quick link to a short guide for formatting markdown in Jupyter notebooks](https://jupyter-notebook.readthedocs.io/en/stable/examples/Notebook/Working%20With%20Markdown%20Cells.html).\n",
    "\n",
    "Provided is the skeleton for formatting a markdown table, with columns headers that will help you create a data dictionary to quickly summarize your data, as well as some examples. **This would be a great thing to copy and paste into your custom README for this project.**"
   ]
  },
  {
   "cell_type": "code",
   "execution_count": null,
   "metadata": {},
   "outputs": [],
   "source": []
  },
  {
   "cell_type": "markdown",
   "metadata": {},
   "source": [
    "|Feature|Type|Dataset|Description|\n",
    "|---|---|---|---|\n",
    "|State|object|ACT/SAT|The state that each piece of data is about|\n",
    "|sat17_participation|float|SAT|Mean participation in the SAT exam by students in the year 2017|\n",
    "|sat17_writing|int|SAT|Mean state score in evidenced-based reading and writing on the SAT in the year 2017|\n",
    "|sat17_math|int|SAT|Mean state score in math on the SAT in the year 2017|\n",
    "|sat17_total|int|SAT|Mean state score using the sum of the writing and math scores on the SAT in the year 2017|\n",
    "|act17_participation|float|ACT|Mean participation in the SAT exam by students in the year 2017|\n",
    "|act17_english|float|ACT|Mean state score in english on the ACT in 2017|\n",
    "|act17_math|float|ACT|Mean state score in math on the ACT in 2017|\n",
    "|act17_reading|float|ACT|Mean state score in reading on the ACT in 2017|\n",
    "|act17_science|float|ACT|Mean state score in science on the ACT in 2017|\n",
    "|act17_composite|float|ACT|Mean state score using the average of all the categories on the ACT in the year 2017|\n",
    "|sat18_participation|float|SAT|Mean participation in the SAT exam by students in the year 2018|\n",
    "|sat18_writing|int|SAT|Mean state score in evidenced-based reading and writing on the SAT in the year 2018|\n",
    "|sat18_math|int|SAT|Mean state score in math on the SAT in the year 2018|\n",
    "|sat18_total|int|SAT|Mean state score using the sum of the writing and math scores on the SAT in the year 2018|\n",
    "|act18_participation|float|ACT|Mean participation in the SAT exam by students in the year 2018|\n",
    "|act18_composite|float|ACT|Mean state score using the average of all the categories on the ACT in the year 2018|\n",
    "|sat19_participation|float|SAT|Mean participation in the SAT exam by students in the year 2019|\n",
    "|sat19_writing|int|SAT|Mean state score in evidenced-based reading and writing on the SAT in the year 2019|\n",
    "|sat19_math|int|SAT|Mean state score in math on the SAT in the year 2019|\n",
    "|sat19_total|int|SAT|Mean state score using the sum of the writing and math scores on the SAT in the year 2019|\n",
    "|act19_participation|float|ACT|Mean participation in the SAT exam by students in the year 2019|\n",
    "|act19_composite|float|ACT|Mean state score using the average of all the categories on the ACT in the year 2019|\n"
   ]
  },
  {
   "cell_type": "markdown",
   "metadata": {},
   "source": [
    "#### 9. Drop unnecessary rows\n",
    "\n"
   ]
  },
  {
   "cell_type": "code",
   "execution_count": 17,
   "metadata": {},
   "outputs": [],
   "source": [
    "#removing the extra row\n",
    "act2017.drop(0, axis=0, inplace=True)\n",
    "\n",
    "# code help https://www.shanelynn.ie/using-pandas-dataframe-creating-editing-viewing-data-in-python/#:~:text=To%20delete%20rows%20based%20on,the%20axis%20set%20to%200."
   ]
  },
  {
   "cell_type": "code",
   "execution_count": 18,
   "metadata": {},
   "outputs": [
    {
     "data": {
      "text/plain": [
       "(51, 7)"
      ]
     },
     "execution_count": 18,
     "metadata": {},
     "output_type": "execute_result"
    }
   ],
   "source": [
    "act2017.shape"
   ]
  },
  {
   "cell_type": "code",
   "execution_count": 19,
   "metadata": {},
   "outputs": [],
   "source": [
    "act2017.reset_index(drop = True, inplace=True)"
   ]
  },
  {
   "cell_type": "markdown",
   "metadata": {},
   "source": [
    "#### 10. Merge Dataframes\n",
    "\n"
   ]
  },
  {
   "cell_type": "code",
   "execution_count": 20,
   "metadata": {},
   "outputs": [],
   "source": [
    "# merging the frames\n",
    "combined_2017 = pd.merge(sat2017, act2017, on='state', how='outer')\n",
    "\n",
    "#code help https://www.datacamp.com/community/tutorials/joining-dataframes-pandas"
   ]
  },
  {
   "cell_type": "markdown",
   "metadata": {},
   "source": [
    "#### 11. Save your cleaned, merged dataframe\n",
    "\n"
   ]
  },
  {
   "cell_type": "code",
   "execution_count": 21,
   "metadata": {},
   "outputs": [],
   "source": [
    "combined_2017.to_csv('./../data/combined_2017.csv', index=False)"
   ]
  },
  {
   "cell_type": "markdown",
   "metadata": {},
   "source": [
    "## 2018 Data Import and Cleaning"
   ]
  },
  {
   "cell_type": "code",
   "execution_count": 22,
   "metadata": {},
   "outputs": [],
   "source": [
    "# Running same series of code and checks for 2018 as 2017\n",
    "sat2018 = pd.read_csv('./../data/sat_2018.csv')\n",
    "act2018 = pd.read_csv('./../data/act_2018.csv')"
   ]
  },
  {
   "cell_type": "code",
   "execution_count": 23,
   "metadata": {},
   "outputs": [
    {
     "data": {
      "text/plain": [
       "State                                 object\n",
       "Participation                         object\n",
       "Evidence-Based Reading and Writing     int64\n",
       "Math                                   int64\n",
       "Total                                  int64\n",
       "dtype: object"
      ]
     },
     "execution_count": 23,
     "metadata": {},
     "output_type": "execute_result"
    }
   ],
   "source": [
    "sat2018.dtypes"
   ]
  },
  {
   "cell_type": "code",
   "execution_count": 24,
   "metadata": {},
   "outputs": [
    {
     "data": {
      "text/plain": [
       "State             object\n",
       "Participation     object\n",
       "Composite        float64\n",
       "dtype: object"
      ]
     },
     "execution_count": 24,
     "metadata": {},
     "output_type": "execute_result"
    }
   ],
   "source": [
    "act2018.dtypes"
   ]
  },
  {
   "cell_type": "code",
   "execution_count": 25,
   "metadata": {},
   "outputs": [],
   "source": [
    "sat2018['Participation'] = sat2018['Participation'].apply(convert_percent)"
   ]
  },
  {
   "cell_type": "code",
   "execution_count": 26,
   "metadata": {},
   "outputs": [],
   "source": [
    "act2018['Participation'] = act2018['Participation'].apply(convert_percent)"
   ]
  },
  {
   "cell_type": "code",
   "execution_count": 27,
   "metadata": {},
   "outputs": [],
   "source": [
    "sat2018.rename(columns={'State' : 'state',\n",
    "                        'Participation':'sat18_participation',\n",
    "                        'Evidence-Based Reading and Writing': 'sat18_writing',\n",
    "                       'Math': 'sat18_math',\n",
    "                       'Total': 'sat18_total'}, inplace=True)"
   ]
  },
  {
   "cell_type": "code",
   "execution_count": 28,
   "metadata": {},
   "outputs": [],
   "source": [
    "act2018.rename(columns={'State' : 'state',\n",
    "                        'Participation':'act18_participation',\n",
    "                       'Composite': 'act18_composite'}, inplace=True)"
   ]
  },
  {
   "cell_type": "code",
   "execution_count": 29,
   "metadata": {},
   "outputs": [],
   "source": [
    "act2018.at[8, 'state'] = 'District of Columbia'"
   ]
  },
  {
   "cell_type": "code",
   "execution_count": 30,
   "metadata": {},
   "outputs": [],
   "source": [
    "act2018.drop(19, axis=0, inplace=True)"
   ]
  },
  {
   "cell_type": "code",
   "execution_count": 31,
   "metadata": {},
   "outputs": [],
   "source": [
    "act2018.reset_index(drop = True, inplace=True)"
   ]
  },
  {
   "cell_type": "code",
   "execution_count": 32,
   "metadata": {},
   "outputs": [],
   "source": [
    "combined_2018 = pd.merge(sat2018, act2018, on='state', how='outer')"
   ]
  },
  {
   "cell_type": "code",
   "execution_count": 33,
   "metadata": {},
   "outputs": [
    {
     "data": {
      "text/html": [
       "<div>\n",
       "<style scoped>\n",
       "    .dataframe tbody tr th:only-of-type {\n",
       "        vertical-align: middle;\n",
       "    }\n",
       "\n",
       "    .dataframe tbody tr th {\n",
       "        vertical-align: top;\n",
       "    }\n",
       "\n",
       "    .dataframe thead th {\n",
       "        text-align: right;\n",
       "    }\n",
       "</style>\n",
       "<table border=\"1\" class=\"dataframe\">\n",
       "  <thead>\n",
       "    <tr style=\"text-align: right;\">\n",
       "      <th></th>\n",
       "      <th>state</th>\n",
       "      <th>sat18_participation</th>\n",
       "      <th>sat18_writing</th>\n",
       "      <th>sat18_math</th>\n",
       "      <th>sat18_total</th>\n",
       "      <th>act18_participation</th>\n",
       "      <th>act18_composite</th>\n",
       "    </tr>\n",
       "  </thead>\n",
       "  <tbody>\n",
       "    <tr>\n",
       "      <th>0</th>\n",
       "      <td>Alabama</td>\n",
       "      <td>6.0</td>\n",
       "      <td>595</td>\n",
       "      <td>571</td>\n",
       "      <td>1166</td>\n",
       "      <td>100.0</td>\n",
       "      <td>19.1</td>\n",
       "    </tr>\n",
       "    <tr>\n",
       "      <th>1</th>\n",
       "      <td>Alaska</td>\n",
       "      <td>43.0</td>\n",
       "      <td>562</td>\n",
       "      <td>544</td>\n",
       "      <td>1106</td>\n",
       "      <td>33.0</td>\n",
       "      <td>20.8</td>\n",
       "    </tr>\n",
       "    <tr>\n",
       "      <th>2</th>\n",
       "      <td>Arizona</td>\n",
       "      <td>29.0</td>\n",
       "      <td>577</td>\n",
       "      <td>572</td>\n",
       "      <td>1149</td>\n",
       "      <td>66.0</td>\n",
       "      <td>19.2</td>\n",
       "    </tr>\n",
       "    <tr>\n",
       "      <th>3</th>\n",
       "      <td>Arkansas</td>\n",
       "      <td>5.0</td>\n",
       "      <td>592</td>\n",
       "      <td>576</td>\n",
       "      <td>1169</td>\n",
       "      <td>100.0</td>\n",
       "      <td>19.4</td>\n",
       "    </tr>\n",
       "    <tr>\n",
       "      <th>4</th>\n",
       "      <td>California</td>\n",
       "      <td>60.0</td>\n",
       "      <td>540</td>\n",
       "      <td>536</td>\n",
       "      <td>1076</td>\n",
       "      <td>27.0</td>\n",
       "      <td>22.7</td>\n",
       "    </tr>\n",
       "  </tbody>\n",
       "</table>\n",
       "</div>"
      ],
      "text/plain": [
       "        state  sat18_participation  sat18_writing  sat18_math  sat18_total  \\\n",
       "0     Alabama                  6.0            595         571         1166   \n",
       "1      Alaska                 43.0            562         544         1106   \n",
       "2     Arizona                 29.0            577         572         1149   \n",
       "3    Arkansas                  5.0            592         576         1169   \n",
       "4  California                 60.0            540         536         1076   \n",
       "\n",
       "   act18_participation  act18_composite  \n",
       "0                100.0             19.1  \n",
       "1                 33.0             20.8  \n",
       "2                 66.0             19.2  \n",
       "3                100.0             19.4  \n",
       "4                 27.0             22.7  "
      ]
     },
     "execution_count": 33,
     "metadata": {},
     "output_type": "execute_result"
    }
   ],
   "source": [
    "combined_2018.head()"
   ]
  },
  {
   "cell_type": "code",
   "execution_count": 34,
   "metadata": {},
   "outputs": [],
   "source": [
    "combined_2018.to_csv('./../data/combined_2018.csv', index=False)"
   ]
  },
  {
   "cell_type": "markdown",
   "metadata": {},
   "source": [
    "## 2019 Data Import and Cleaning"
   ]
  },
  {
   "cell_type": "code",
   "execution_count": 35,
   "metadata": {},
   "outputs": [],
   "source": [
    "# running the code for 2019\n",
    "sat2019 = pd.read_csv('./../data/sat_2019.csv')\n",
    "act2019 = pd.read_csv('./../data/act_2019.csv')"
   ]
  },
  {
   "cell_type": "code",
   "execution_count": 36,
   "metadata": {},
   "outputs": [
    {
     "data": {
      "text/plain": [
       "State                 object\n",
       "Participation Rate    object\n",
       "EBRW                   int64\n",
       "Math                   int64\n",
       "Total                  int64\n",
       "dtype: object"
      ]
     },
     "execution_count": 36,
     "metadata": {},
     "output_type": "execute_result"
    }
   ],
   "source": [
    "sat2019.dtypes"
   ]
  },
  {
   "cell_type": "code",
   "execution_count": 37,
   "metadata": {},
   "outputs": [
    {
     "data": {
      "text/plain": [
       "State             object\n",
       "Participation     object\n",
       "Composite        float64\n",
       "dtype: object"
      ]
     },
     "execution_count": 37,
     "metadata": {},
     "output_type": "execute_result"
    }
   ],
   "source": [
    "act2019.dtypes"
   ]
  },
  {
   "cell_type": "code",
   "execution_count": 38,
   "metadata": {},
   "outputs": [],
   "source": [
    "sat2019['Participation Rate'] = sat2019['Participation Rate'].apply(convert_percent)"
   ]
  },
  {
   "cell_type": "code",
   "execution_count": 39,
   "metadata": {},
   "outputs": [],
   "source": [
    "act2019['Participation'] = act2019['Participation'].apply(convert_percent)"
   ]
  },
  {
   "cell_type": "code",
   "execution_count": 40,
   "metadata": {},
   "outputs": [],
   "source": [
    "sat2019.rename(columns={'State' : 'state',\n",
    "                        'Participation Rate':'sat19_participation',\n",
    "                        'EBRW': 'sat19_writing',\n",
    "                       'Math': 'sat19_math',\n",
    "                       'Total': 'sat19_total'}, inplace=True)"
   ]
  },
  {
   "cell_type": "code",
   "execution_count": null,
   "metadata": {},
   "outputs": [],
   "source": []
  },
  {
   "cell_type": "code",
   "execution_count": 41,
   "metadata": {},
   "outputs": [],
   "source": [
    "act2019.rename(columns={'State' : 'state',\n",
    "                        'Participation':'act19_participation',\n",
    "                       'Composite': 'act19_composite'}, inplace=True)"
   ]
  },
  {
   "cell_type": "code",
   "execution_count": 42,
   "metadata": {},
   "outputs": [],
   "source": [
    "sat2019.drop(39, axis=0, inplace=True)\n",
    "sat2019.drop(47, axis=0, inplace=True)\n",
    "act2019.drop(51, axis=0, inplace=True)"
   ]
  },
  {
   "cell_type": "code",
   "execution_count": 43,
   "metadata": {},
   "outputs": [],
   "source": [
    "sat2019.reset_index(drop = True, inplace=True)\n",
    "act2019.reset_index(drop = True, inplace=True)"
   ]
  },
  {
   "cell_type": "code",
   "execution_count": 44,
   "metadata": {},
   "outputs": [],
   "source": [
    "combined_2019 = pd.merge(sat2019, act2019, on='state', how='outer')"
   ]
  },
  {
   "cell_type": "code",
   "execution_count": 45,
   "metadata": {},
   "outputs": [
    {
     "data": {
      "text/html": [
       "<div>\n",
       "<style scoped>\n",
       "    .dataframe tbody tr th:only-of-type {\n",
       "        vertical-align: middle;\n",
       "    }\n",
       "\n",
       "    .dataframe tbody tr th {\n",
       "        vertical-align: top;\n",
       "    }\n",
       "\n",
       "    .dataframe thead th {\n",
       "        text-align: right;\n",
       "    }\n",
       "</style>\n",
       "<table border=\"1\" class=\"dataframe\">\n",
       "  <thead>\n",
       "    <tr style=\"text-align: right;\">\n",
       "      <th></th>\n",
       "      <th>state</th>\n",
       "      <th>sat19_participation</th>\n",
       "      <th>sat19_writing</th>\n",
       "      <th>sat19_math</th>\n",
       "      <th>sat19_total</th>\n",
       "      <th>act19_participation</th>\n",
       "      <th>act19_composite</th>\n",
       "    </tr>\n",
       "  </thead>\n",
       "  <tbody>\n",
       "    <tr>\n",
       "      <th>0</th>\n",
       "      <td>Alabama</td>\n",
       "      <td>7.0</td>\n",
       "      <td>583</td>\n",
       "      <td>560</td>\n",
       "      <td>1143</td>\n",
       "      <td>100.0</td>\n",
       "      <td>18.9</td>\n",
       "    </tr>\n",
       "    <tr>\n",
       "      <th>1</th>\n",
       "      <td>Alaska</td>\n",
       "      <td>41.0</td>\n",
       "      <td>556</td>\n",
       "      <td>541</td>\n",
       "      <td>1097</td>\n",
       "      <td>38.0</td>\n",
       "      <td>20.1</td>\n",
       "    </tr>\n",
       "    <tr>\n",
       "      <th>2</th>\n",
       "      <td>Arizona</td>\n",
       "      <td>31.0</td>\n",
       "      <td>569</td>\n",
       "      <td>565</td>\n",
       "      <td>1134</td>\n",
       "      <td>73.0</td>\n",
       "      <td>19.0</td>\n",
       "    </tr>\n",
       "    <tr>\n",
       "      <th>3</th>\n",
       "      <td>Arkansas</td>\n",
       "      <td>6.0</td>\n",
       "      <td>582</td>\n",
       "      <td>559</td>\n",
       "      <td>1141</td>\n",
       "      <td>100.0</td>\n",
       "      <td>19.3</td>\n",
       "    </tr>\n",
       "    <tr>\n",
       "      <th>4</th>\n",
       "      <td>California</td>\n",
       "      <td>63.0</td>\n",
       "      <td>534</td>\n",
       "      <td>531</td>\n",
       "      <td>1065</td>\n",
       "      <td>23.0</td>\n",
       "      <td>22.6</td>\n",
       "    </tr>\n",
       "  </tbody>\n",
       "</table>\n",
       "</div>"
      ],
      "text/plain": [
       "        state  sat19_participation  sat19_writing  sat19_math  sat19_total  \\\n",
       "0     Alabama                  7.0            583         560         1143   \n",
       "1      Alaska                 41.0            556         541         1097   \n",
       "2     Arizona                 31.0            569         565         1134   \n",
       "3    Arkansas                  6.0            582         559         1141   \n",
       "4  California                 63.0            534         531         1065   \n",
       "\n",
       "   act19_participation  act19_composite  \n",
       "0                100.0             18.9  \n",
       "1                 38.0             20.1  \n",
       "2                 73.0             19.0  \n",
       "3                100.0             19.3  \n",
       "4                 23.0             22.6  "
      ]
     },
     "execution_count": 45,
     "metadata": {},
     "output_type": "execute_result"
    }
   ],
   "source": [
    "combined_2019.head()"
   ]
  },
  {
   "cell_type": "code",
   "execution_count": 46,
   "metadata": {},
   "outputs": [],
   "source": [
    "combined_2019.to_csv('./../data/combined_2019.csv', index=False)"
   ]
  },
  {
   "cell_type": "markdown",
   "metadata": {},
   "source": [
    "#### Combine your 2017, 2018, and 2019 data into a single dataframe\n"
   ]
  },
  {
   "cell_type": "code",
   "execution_count": 47,
   "metadata": {},
   "outputs": [],
   "source": [
    "combined_201718 = pd.merge(combined_2017, combined_2018, on='state', how='outer')"
   ]
  },
  {
   "cell_type": "code",
   "execution_count": 48,
   "metadata": {},
   "outputs": [],
   "source": [
    "final_data = pd.merge(combined_201718, combined_2019, on='state', how='outer')"
   ]
  },
  {
   "cell_type": "code",
   "execution_count": 49,
   "metadata": {},
   "outputs": [
    {
     "data": {
      "text/html": [
       "<div>\n",
       "<style scoped>\n",
       "    .dataframe tbody tr th:only-of-type {\n",
       "        vertical-align: middle;\n",
       "    }\n",
       "\n",
       "    .dataframe tbody tr th {\n",
       "        vertical-align: top;\n",
       "    }\n",
       "\n",
       "    .dataframe thead th {\n",
       "        text-align: right;\n",
       "    }\n",
       "</style>\n",
       "<table border=\"1\" class=\"dataframe\">\n",
       "  <thead>\n",
       "    <tr style=\"text-align: right;\">\n",
       "      <th></th>\n",
       "      <th>state</th>\n",
       "      <th>sat17_participation</th>\n",
       "      <th>sat17_writing</th>\n",
       "      <th>sat17_math</th>\n",
       "      <th>sat17_total</th>\n",
       "      <th>act17_participation</th>\n",
       "      <th>act17_english</th>\n",
       "      <th>act17_math</th>\n",
       "      <th>act17_reading</th>\n",
       "      <th>act17_science</th>\n",
       "      <th>...</th>\n",
       "      <th>sat18_math</th>\n",
       "      <th>sat18_total</th>\n",
       "      <th>act18_participation</th>\n",
       "      <th>act18_composite</th>\n",
       "      <th>sat19_participation</th>\n",
       "      <th>sat19_writing</th>\n",
       "      <th>sat19_math</th>\n",
       "      <th>sat19_total</th>\n",
       "      <th>act19_participation</th>\n",
       "      <th>act19_composite</th>\n",
       "    </tr>\n",
       "  </thead>\n",
       "  <tbody>\n",
       "    <tr>\n",
       "      <th>0</th>\n",
       "      <td>Alabama</td>\n",
       "      <td>5.0</td>\n",
       "      <td>593</td>\n",
       "      <td>572</td>\n",
       "      <td>1165</td>\n",
       "      <td>100.0</td>\n",
       "      <td>18.9</td>\n",
       "      <td>18.4</td>\n",
       "      <td>19.7</td>\n",
       "      <td>19.4</td>\n",
       "      <td>...</td>\n",
       "      <td>571</td>\n",
       "      <td>1166</td>\n",
       "      <td>100.0</td>\n",
       "      <td>19.1</td>\n",
       "      <td>7.0</td>\n",
       "      <td>583</td>\n",
       "      <td>560</td>\n",
       "      <td>1143</td>\n",
       "      <td>100.0</td>\n",
       "      <td>18.9</td>\n",
       "    </tr>\n",
       "    <tr>\n",
       "      <th>1</th>\n",
       "      <td>Alaska</td>\n",
       "      <td>38.0</td>\n",
       "      <td>547</td>\n",
       "      <td>533</td>\n",
       "      <td>1080</td>\n",
       "      <td>65.0</td>\n",
       "      <td>18.7</td>\n",
       "      <td>19.8</td>\n",
       "      <td>20.4</td>\n",
       "      <td>19.9</td>\n",
       "      <td>...</td>\n",
       "      <td>544</td>\n",
       "      <td>1106</td>\n",
       "      <td>33.0</td>\n",
       "      <td>20.8</td>\n",
       "      <td>41.0</td>\n",
       "      <td>556</td>\n",
       "      <td>541</td>\n",
       "      <td>1097</td>\n",
       "      <td>38.0</td>\n",
       "      <td>20.1</td>\n",
       "    </tr>\n",
       "    <tr>\n",
       "      <th>2</th>\n",
       "      <td>Arizona</td>\n",
       "      <td>30.0</td>\n",
       "      <td>563</td>\n",
       "      <td>553</td>\n",
       "      <td>1116</td>\n",
       "      <td>62.0</td>\n",
       "      <td>18.6</td>\n",
       "      <td>19.8</td>\n",
       "      <td>20.1</td>\n",
       "      <td>19.8</td>\n",
       "      <td>...</td>\n",
       "      <td>572</td>\n",
       "      <td>1149</td>\n",
       "      <td>66.0</td>\n",
       "      <td>19.2</td>\n",
       "      <td>31.0</td>\n",
       "      <td>569</td>\n",
       "      <td>565</td>\n",
       "      <td>1134</td>\n",
       "      <td>73.0</td>\n",
       "      <td>19.0</td>\n",
       "    </tr>\n",
       "    <tr>\n",
       "      <th>3</th>\n",
       "      <td>Arkansas</td>\n",
       "      <td>3.0</td>\n",
       "      <td>614</td>\n",
       "      <td>594</td>\n",
       "      <td>1208</td>\n",
       "      <td>100.0</td>\n",
       "      <td>18.9</td>\n",
       "      <td>19.0</td>\n",
       "      <td>19.7</td>\n",
       "      <td>19.5</td>\n",
       "      <td>...</td>\n",
       "      <td>576</td>\n",
       "      <td>1169</td>\n",
       "      <td>100.0</td>\n",
       "      <td>19.4</td>\n",
       "      <td>6.0</td>\n",
       "      <td>582</td>\n",
       "      <td>559</td>\n",
       "      <td>1141</td>\n",
       "      <td>100.0</td>\n",
       "      <td>19.3</td>\n",
       "    </tr>\n",
       "    <tr>\n",
       "      <th>4</th>\n",
       "      <td>California</td>\n",
       "      <td>53.0</td>\n",
       "      <td>531</td>\n",
       "      <td>524</td>\n",
       "      <td>1055</td>\n",
       "      <td>31.0</td>\n",
       "      <td>22.5</td>\n",
       "      <td>22.7</td>\n",
       "      <td>23.1</td>\n",
       "      <td>22.2</td>\n",
       "      <td>...</td>\n",
       "      <td>536</td>\n",
       "      <td>1076</td>\n",
       "      <td>27.0</td>\n",
       "      <td>22.7</td>\n",
       "      <td>63.0</td>\n",
       "      <td>534</td>\n",
       "      <td>531</td>\n",
       "      <td>1065</td>\n",
       "      <td>23.0</td>\n",
       "      <td>22.6</td>\n",
       "    </tr>\n",
       "  </tbody>\n",
       "</table>\n",
       "<p>5 rows × 23 columns</p>\n",
       "</div>"
      ],
      "text/plain": [
       "        state  sat17_participation  sat17_writing  sat17_math  sat17_total  \\\n",
       "0     Alabama                  5.0            593         572         1165   \n",
       "1      Alaska                 38.0            547         533         1080   \n",
       "2     Arizona                 30.0            563         553         1116   \n",
       "3    Arkansas                  3.0            614         594         1208   \n",
       "4  California                 53.0            531         524         1055   \n",
       "\n",
       "   act17_participation  act17_english  act17_math  act17_reading  \\\n",
       "0                100.0           18.9        18.4           19.7   \n",
       "1                 65.0           18.7        19.8           20.4   \n",
       "2                 62.0           18.6        19.8           20.1   \n",
       "3                100.0           18.9        19.0           19.7   \n",
       "4                 31.0           22.5        22.7           23.1   \n",
       "\n",
       "   act17_science  ...  sat18_math  sat18_total  act18_participation  \\\n",
       "0           19.4  ...         571         1166                100.0   \n",
       "1           19.9  ...         544         1106                 33.0   \n",
       "2           19.8  ...         572         1149                 66.0   \n",
       "3           19.5  ...         576         1169                100.0   \n",
       "4           22.2  ...         536         1076                 27.0   \n",
       "\n",
       "   act18_composite  sat19_participation  sat19_writing  sat19_math  \\\n",
       "0             19.1                  7.0            583         560   \n",
       "1             20.8                 41.0            556         541   \n",
       "2             19.2                 31.0            569         565   \n",
       "3             19.4                  6.0            582         559   \n",
       "4             22.7                 63.0            534         531   \n",
       "\n",
       "   sat19_total  act19_participation  act19_composite  \n",
       "0         1143                100.0             18.9  \n",
       "1         1097                 38.0             20.1  \n",
       "2         1134                 73.0             19.0  \n",
       "3         1141                100.0             19.3  \n",
       "4         1065                 23.0             22.6  \n",
       "\n",
       "[5 rows x 23 columns]"
      ]
     },
     "execution_count": 49,
     "metadata": {},
     "output_type": "execute_result"
    }
   ],
   "source": [
    "final_data.head()"
   ]
  },
  {
   "cell_type": "code",
   "execution_count": 50,
   "metadata": {},
   "outputs": [],
   "source": [
    "final_data.to_csv('./../data/final.csv', index=False)"
   ]
  },
  {
   "cell_type": "markdown",
   "metadata": {},
   "source": [
    "## Exploratory Data Analysis\n",
    "\n",
    "\n",
    "### Summary Statistics\n",
    "Transpose the output of pandas `describe` method to create a quick overview of each numeric feature."
   ]
  },
  {
   "cell_type": "code",
   "execution_count": 51,
   "metadata": {},
   "outputs": [
    {
     "data": {
      "text/html": [
       "<div>\n",
       "<style scoped>\n",
       "    .dataframe tbody tr th:only-of-type {\n",
       "        vertical-align: middle;\n",
       "    }\n",
       "\n",
       "    .dataframe tbody tr th {\n",
       "        vertical-align: top;\n",
       "    }\n",
       "\n",
       "    .dataframe thead th {\n",
       "        text-align: right;\n",
       "    }\n",
       "</style>\n",
       "<table border=\"1\" class=\"dataframe\">\n",
       "  <thead>\n",
       "    <tr style=\"text-align: right;\">\n",
       "      <th></th>\n",
       "      <th>count</th>\n",
       "      <th>mean</th>\n",
       "      <th>std</th>\n",
       "      <th>min</th>\n",
       "      <th>25%</th>\n",
       "      <th>50%</th>\n",
       "      <th>75%</th>\n",
       "      <th>max</th>\n",
       "    </tr>\n",
       "  </thead>\n",
       "  <tbody>\n",
       "    <tr>\n",
       "      <th>sat17_participation</th>\n",
       "      <td>51.0</td>\n",
       "      <td>39.803922</td>\n",
       "      <td>35.276632</td>\n",
       "      <td>2.0</td>\n",
       "      <td>4.00</td>\n",
       "      <td>38.0</td>\n",
       "      <td>66.00</td>\n",
       "      <td>100.0</td>\n",
       "    </tr>\n",
       "    <tr>\n",
       "      <th>sat17_writing</th>\n",
       "      <td>51.0</td>\n",
       "      <td>569.117647</td>\n",
       "      <td>45.666901</td>\n",
       "      <td>482.0</td>\n",
       "      <td>533.50</td>\n",
       "      <td>559.0</td>\n",
       "      <td>613.00</td>\n",
       "      <td>644.0</td>\n",
       "    </tr>\n",
       "    <tr>\n",
       "      <th>sat17_math</th>\n",
       "      <td>51.0</td>\n",
       "      <td>556.882353</td>\n",
       "      <td>47.121395</td>\n",
       "      <td>468.0</td>\n",
       "      <td>523.50</td>\n",
       "      <td>548.0</td>\n",
       "      <td>599.00</td>\n",
       "      <td>651.0</td>\n",
       "    </tr>\n",
       "    <tr>\n",
       "      <th>sat17_total</th>\n",
       "      <td>51.0</td>\n",
       "      <td>1126.098039</td>\n",
       "      <td>92.494812</td>\n",
       "      <td>950.0</td>\n",
       "      <td>1055.50</td>\n",
       "      <td>1107.0</td>\n",
       "      <td>1212.00</td>\n",
       "      <td>1295.0</td>\n",
       "    </tr>\n",
       "    <tr>\n",
       "      <th>act17_participation</th>\n",
       "      <td>51.0</td>\n",
       "      <td>65.254902</td>\n",
       "      <td>32.140842</td>\n",
       "      <td>8.0</td>\n",
       "      <td>31.00</td>\n",
       "      <td>69.0</td>\n",
       "      <td>100.00</td>\n",
       "      <td>100.0</td>\n",
       "    </tr>\n",
       "    <tr>\n",
       "      <th>act17_english</th>\n",
       "      <td>51.0</td>\n",
       "      <td>20.931373</td>\n",
       "      <td>2.353677</td>\n",
       "      <td>16.3</td>\n",
       "      <td>19.00</td>\n",
       "      <td>20.7</td>\n",
       "      <td>23.30</td>\n",
       "      <td>25.5</td>\n",
       "    </tr>\n",
       "    <tr>\n",
       "      <th>act17_math</th>\n",
       "      <td>51.0</td>\n",
       "      <td>21.182353</td>\n",
       "      <td>1.981989</td>\n",
       "      <td>18.0</td>\n",
       "      <td>19.40</td>\n",
       "      <td>20.9</td>\n",
       "      <td>23.10</td>\n",
       "      <td>25.3</td>\n",
       "    </tr>\n",
       "    <tr>\n",
       "      <th>act17_reading</th>\n",
       "      <td>51.0</td>\n",
       "      <td>22.013725</td>\n",
       "      <td>2.067271</td>\n",
       "      <td>18.1</td>\n",
       "      <td>20.45</td>\n",
       "      <td>21.8</td>\n",
       "      <td>24.15</td>\n",
       "      <td>26.0</td>\n",
       "    </tr>\n",
       "    <tr>\n",
       "      <th>act17_science</th>\n",
       "      <td>51.0</td>\n",
       "      <td>21.450980</td>\n",
       "      <td>1.739353</td>\n",
       "      <td>18.2</td>\n",
       "      <td>19.95</td>\n",
       "      <td>21.3</td>\n",
       "      <td>23.20</td>\n",
       "      <td>24.9</td>\n",
       "    </tr>\n",
       "    <tr>\n",
       "      <th>act17_composite</th>\n",
       "      <td>51.0</td>\n",
       "      <td>21.519608</td>\n",
       "      <td>2.020695</td>\n",
       "      <td>17.8</td>\n",
       "      <td>19.80</td>\n",
       "      <td>21.4</td>\n",
       "      <td>23.60</td>\n",
       "      <td>25.5</td>\n",
       "    </tr>\n",
       "    <tr>\n",
       "      <th>sat18_participation</th>\n",
       "      <td>51.0</td>\n",
       "      <td>45.745098</td>\n",
       "      <td>37.314256</td>\n",
       "      <td>2.0</td>\n",
       "      <td>4.50</td>\n",
       "      <td>52.0</td>\n",
       "      <td>77.50</td>\n",
       "      <td>100.0</td>\n",
       "    </tr>\n",
       "    <tr>\n",
       "      <th>sat18_writing</th>\n",
       "      <td>51.0</td>\n",
       "      <td>563.686275</td>\n",
       "      <td>47.502627</td>\n",
       "      <td>480.0</td>\n",
       "      <td>534.50</td>\n",
       "      <td>552.0</td>\n",
       "      <td>610.50</td>\n",
       "      <td>643.0</td>\n",
       "    </tr>\n",
       "    <tr>\n",
       "      <th>sat18_math</th>\n",
       "      <td>51.0</td>\n",
       "      <td>556.235294</td>\n",
       "      <td>47.772623</td>\n",
       "      <td>480.0</td>\n",
       "      <td>522.50</td>\n",
       "      <td>544.0</td>\n",
       "      <td>593.50</td>\n",
       "      <td>655.0</td>\n",
       "    </tr>\n",
       "    <tr>\n",
       "      <th>sat18_total</th>\n",
       "      <td>51.0</td>\n",
       "      <td>1120.019608</td>\n",
       "      <td>94.155083</td>\n",
       "      <td>977.0</td>\n",
       "      <td>1057.50</td>\n",
       "      <td>1098.0</td>\n",
       "      <td>1204.00</td>\n",
       "      <td>1298.0</td>\n",
       "    </tr>\n",
       "    <tr>\n",
       "      <th>act18_participation</th>\n",
       "      <td>51.0</td>\n",
       "      <td>61.725490</td>\n",
       "      <td>34.037085</td>\n",
       "      <td>7.0</td>\n",
       "      <td>28.50</td>\n",
       "      <td>66.0</td>\n",
       "      <td>100.00</td>\n",
       "      <td>100.0</td>\n",
       "    </tr>\n",
       "    <tr>\n",
       "      <th>act18_composite</th>\n",
       "      <td>51.0</td>\n",
       "      <td>21.496078</td>\n",
       "      <td>2.111583</td>\n",
       "      <td>17.7</td>\n",
       "      <td>19.95</td>\n",
       "      <td>21.3</td>\n",
       "      <td>23.65</td>\n",
       "      <td>25.6</td>\n",
       "    </tr>\n",
       "    <tr>\n",
       "      <th>sat19_participation</th>\n",
       "      <td>51.0</td>\n",
       "      <td>49.058824</td>\n",
       "      <td>38.747600</td>\n",
       "      <td>2.0</td>\n",
       "      <td>5.50</td>\n",
       "      <td>54.0</td>\n",
       "      <td>82.00</td>\n",
       "      <td>100.0</td>\n",
       "    </tr>\n",
       "    <tr>\n",
       "      <th>sat19_writing</th>\n",
       "      <td>51.0</td>\n",
       "      <td>560.803922</td>\n",
       "      <td>46.248035</td>\n",
       "      <td>483.0</td>\n",
       "      <td>527.50</td>\n",
       "      <td>550.0</td>\n",
       "      <td>612.00</td>\n",
       "      <td>636.0</td>\n",
       "    </tr>\n",
       "    <tr>\n",
       "      <th>sat19_math</th>\n",
       "      <td>51.0</td>\n",
       "      <td>552.196078</td>\n",
       "      <td>51.290553</td>\n",
       "      <td>460.0</td>\n",
       "      <td>511.50</td>\n",
       "      <td>546.0</td>\n",
       "      <td>599.00</td>\n",
       "      <td>648.0</td>\n",
       "    </tr>\n",
       "    <tr>\n",
       "      <th>sat19_total</th>\n",
       "      <td>51.0</td>\n",
       "      <td>1113.078431</td>\n",
       "      <td>97.197910</td>\n",
       "      <td>943.0</td>\n",
       "      <td>1038.00</td>\n",
       "      <td>1097.0</td>\n",
       "      <td>1210.00</td>\n",
       "      <td>1284.0</td>\n",
       "    </tr>\n",
       "    <tr>\n",
       "      <th>act19_participation</th>\n",
       "      <td>51.0</td>\n",
       "      <td>58.666667</td>\n",
       "      <td>34.515890</td>\n",
       "      <td>6.0</td>\n",
       "      <td>24.50</td>\n",
       "      <td>54.0</td>\n",
       "      <td>100.00</td>\n",
       "      <td>100.0</td>\n",
       "    </tr>\n",
       "    <tr>\n",
       "      <th>act19_composite</th>\n",
       "      <td>51.0</td>\n",
       "      <td>21.464706</td>\n",
       "      <td>2.194523</td>\n",
       "      <td>17.9</td>\n",
       "      <td>19.80</td>\n",
       "      <td>21.1</td>\n",
       "      <td>23.70</td>\n",
       "      <td>25.5</td>\n",
       "    </tr>\n",
       "  </tbody>\n",
       "</table>\n",
       "</div>"
      ],
      "text/plain": [
       "                     count         mean        std    min      25%     50%  \\\n",
       "sat17_participation   51.0    39.803922  35.276632    2.0     4.00    38.0   \n",
       "sat17_writing         51.0   569.117647  45.666901  482.0   533.50   559.0   \n",
       "sat17_math            51.0   556.882353  47.121395  468.0   523.50   548.0   \n",
       "sat17_total           51.0  1126.098039  92.494812  950.0  1055.50  1107.0   \n",
       "act17_participation   51.0    65.254902  32.140842    8.0    31.00    69.0   \n",
       "act17_english         51.0    20.931373   2.353677   16.3    19.00    20.7   \n",
       "act17_math            51.0    21.182353   1.981989   18.0    19.40    20.9   \n",
       "act17_reading         51.0    22.013725   2.067271   18.1    20.45    21.8   \n",
       "act17_science         51.0    21.450980   1.739353   18.2    19.95    21.3   \n",
       "act17_composite       51.0    21.519608   2.020695   17.8    19.80    21.4   \n",
       "sat18_participation   51.0    45.745098  37.314256    2.0     4.50    52.0   \n",
       "sat18_writing         51.0   563.686275  47.502627  480.0   534.50   552.0   \n",
       "sat18_math            51.0   556.235294  47.772623  480.0   522.50   544.0   \n",
       "sat18_total           51.0  1120.019608  94.155083  977.0  1057.50  1098.0   \n",
       "act18_participation   51.0    61.725490  34.037085    7.0    28.50    66.0   \n",
       "act18_composite       51.0    21.496078   2.111583   17.7    19.95    21.3   \n",
       "sat19_participation   51.0    49.058824  38.747600    2.0     5.50    54.0   \n",
       "sat19_writing         51.0   560.803922  46.248035  483.0   527.50   550.0   \n",
       "sat19_math            51.0   552.196078  51.290553  460.0   511.50   546.0   \n",
       "sat19_total           51.0  1113.078431  97.197910  943.0  1038.00  1097.0   \n",
       "act19_participation   51.0    58.666667  34.515890    6.0    24.50    54.0   \n",
       "act19_composite       51.0    21.464706   2.194523   17.9    19.80    21.1   \n",
       "\n",
       "                         75%     max  \n",
       "sat17_participation    66.00   100.0  \n",
       "sat17_writing         613.00   644.0  \n",
       "sat17_math            599.00   651.0  \n",
       "sat17_total          1212.00  1295.0  \n",
       "act17_participation   100.00   100.0  \n",
       "act17_english          23.30    25.5  \n",
       "act17_math             23.10    25.3  \n",
       "act17_reading          24.15    26.0  \n",
       "act17_science          23.20    24.9  \n",
       "act17_composite        23.60    25.5  \n",
       "sat18_participation    77.50   100.0  \n",
       "sat18_writing         610.50   643.0  \n",
       "sat18_math            593.50   655.0  \n",
       "sat18_total          1204.00  1298.0  \n",
       "act18_participation   100.00   100.0  \n",
       "act18_composite        23.65    25.6  \n",
       "sat19_participation    82.00   100.0  \n",
       "sat19_writing         612.00   636.0  \n",
       "sat19_math            599.00   648.0  \n",
       "sat19_total          1210.00  1284.0  \n",
       "act19_participation   100.00   100.0  \n",
       "act19_composite        23.70    25.5  "
      ]
     },
     "execution_count": 51,
     "metadata": {},
     "output_type": "execute_result"
    }
   ],
   "source": [
    "final_data.describe().T"
   ]
  },
  {
   "cell_type": "markdown",
   "metadata": {},
   "source": [
    "#### Manually calculate standard deviation\n",
    "\n",
    "$$\\sigma = \\sqrt{\\frac{1}{n}\\sum_{i=1}^n(x_i - \\mu)^2}$$\n",
    "\n"
   ]
  },
  {
   "cell_type": "code",
   "execution_count": 52,
   "metadata": {},
   "outputs": [],
   "source": [
    "# calculate standard deviantion\n",
    "\n",
    "def stnd_dev(column):\n",
    "    mean_val = np.mean(column)\n",
    "    \n",
    "    value = 0\n",
    "    for i in column:\n",
    "        value += ((i - mean_val) ** 2)\n",
    "        \n",
    "    standard_dev = (value / len(column)) ** 0.5 \n",
    "    return standard_dev"
   ]
  },
  {
   "cell_type": "code",
   "execution_count": 53,
   "metadata": {},
   "outputs": [
    {
     "data": {
      "text/plain": [
       "34.92907076664508"
      ]
     },
     "execution_count": 53,
     "metadata": {},
     "output_type": "execute_result"
    }
   ],
   "source": [
    "stnd_dev(final_data['sat17_participation'])"
   ]
  },
  {
   "cell_type": "code",
   "execution_count": 54,
   "metadata": {},
   "outputs": [
    {
     "data": {
      "text/plain": [
       "34.92907076664508"
      ]
     },
     "execution_count": 54,
     "metadata": {},
     "output_type": "execute_result"
    }
   ],
   "source": [
    "np.std(final_data['sat17_participation'])\n"
   ]
  },
  {
   "cell_type": "code",
   "execution_count": 55,
   "metadata": {},
   "outputs": [
    {
     "data": {
      "text/plain": [
       "45.21697020437866"
      ]
     },
     "execution_count": 55,
     "metadata": {},
     "output_type": "execute_result"
    }
   ],
   "source": [
    "np.std(final_data['sat17_writing'])"
   ]
  },
  {
   "cell_type": "code",
   "execution_count": 56,
   "metadata": {},
   "outputs": [
    {
     "data": {
      "text/plain": [
       "{'sat17_participation': 34.92907076664508,\n",
       " 'sat17_writing': 45.21697020437866,\n",
       " 'sat17_math': 46.65713364485503,\n",
       " 'sat17_total': 91.58351056778743,\n",
       " 'act17_participation': 31.824175751231806,\n",
       " 'act17_english': 2.3304876369363363,\n",
       " 'act17_math': 1.9624620273436781,\n",
       " 'act17_reading': 2.0469029314842646,\n",
       " 'act17_science': 1.7222161451443676,\n",
       " 'act17_composite': 2.000786081581989,\n",
       " 'sat18_participation': 36.946619223539415,\n",
       " 'sat18_writing': 47.03460978357609,\n",
       " 'sat18_math': 47.30194550378352,\n",
       " 'sat18_total': 93.22742384464433,\n",
       " 'act18_participation': 33.70173582041031,\n",
       " 'act18_composite': 2.090779082141178,\n",
       " 'sat19_participation': 38.365840486857266,\n",
       " 'sat19_writing': 45.792378682545134,\n",
       " 'sat19_math': 50.78521461840036,\n",
       " 'sat19_total': 96.24027185617864,\n",
       " 'act19_participation': 34.17582373703048,\n",
       " 'act19_composite': 2.172901153595978}"
      ]
     },
     "execution_count": 56,
     "metadata": {},
     "output_type": "execute_result"
    }
   ],
   "source": [
    "# creating a dictionary of the standard deviations from the function\n",
    "{x.name:stnd_dev(x) for x in [final_data[i] for i in final_data.columns if (final_data[i].dtype=='float64') or (final_data[i].dtype=='int64')]}\n",
    "\n",
    "# code help https://stackoverflow.com/questions/55048445/dictionary-comprehension-to-apply-a-function-to-dataframe-columns\n"
   ]
  },
  {
   "cell_type": "markdown",
   "metadata": {},
   "source": [
    "<span style=\"color:blue\">\n",
    "\n",
    "The numbers I am getting are not exactly the same as the pandas describe but they do line up with numpy's std method.\n",
    "I wonder if this is an issue with rounding numbers during the operation. If pandas rounds at times it could change the end result by a small amount."
   ]
  },
  {
   "cell_type": "markdown",
   "metadata": {},
   "source": [
    "#### Investigate trends in the data\n"
   ]
  },
  {
   "cell_type": "code",
   "execution_count": 57,
   "metadata": {},
   "outputs": [],
   "source": [
    "final = final_data.set_index('state')\n",
    "#setting a state index for readability in sorting"
   ]
  },
  {
   "cell_type": "code",
   "execution_count": 58,
   "metadata": {},
   "outputs": [
    {
     "data": {
      "text/plain": [
       "state\n",
       "Connecticut             100.0\n",
       "Delaware                100.0\n",
       "District of Columbia    100.0\n",
       "Michigan                100.0\n",
       "New Hampshire            96.0\n",
       "Name: sat17_participation, dtype: float64"
      ]
     },
     "execution_count": 58,
     "metadata": {},
     "output_type": "execute_result"
    }
   ],
   "source": [
    "final['sat17_participation'].sort_values(ascending=False).head()"
   ]
  },
  {
   "cell_type": "code",
   "execution_count": 59,
   "metadata": {},
   "outputs": [
    {
     "data": {
      "text/plain": [
       "state\n",
       "Utah            3.0\n",
       "Missouri        3.0\n",
       "Iowa            2.0\n",
       "Mississippi     2.0\n",
       "North Dakota    2.0\n",
       "Name: sat17_participation, dtype: float64"
      ]
     },
     "execution_count": 59,
     "metadata": {},
     "output_type": "execute_result"
    }
   ],
   "source": [
    "final['sat17_participation'].sort_values(ascending=False).tail()"
   ]
  },
  {
   "cell_type": "code",
   "execution_count": 60,
   "metadata": {},
   "outputs": [
    {
     "data": {
      "text/plain": [
       "state\n",
       "Idaho          100.0\n",
       "Michigan       100.0\n",
       "Delaware       100.0\n",
       "Connecticut    100.0\n",
       "Colorado       100.0\n",
       "Name: sat18_participation, dtype: float64"
      ]
     },
     "execution_count": 60,
     "metadata": {},
     "output_type": "execute_result"
    }
   ],
   "source": [
    "final['sat18_participation'].sort_values(ascending=False).head()"
   ]
  },
  {
   "cell_type": "code",
   "execution_count": 61,
   "metadata": {},
   "outputs": [
    {
     "data": {
      "text/plain": [
       "state\n",
       "Wisconsin       3.0\n",
       "Nebraska        3.0\n",
       "South Dakota    3.0\n",
       "Wyoming         3.0\n",
       "North Dakota    2.0\n",
       "Name: sat18_participation, dtype: float64"
      ]
     },
     "execution_count": 61,
     "metadata": {},
     "output_type": "execute_result"
    }
   ],
   "source": [
    "final['sat18_participation'].sort_values(ascending=False).tail()"
   ]
  },
  {
   "cell_type": "code",
   "execution_count": 62,
   "metadata": {},
   "outputs": [
    {
     "data": {
      "text/plain": [
       "state\n",
       "Idaho          100.0\n",
       "Illinois       100.0\n",
       "Michigan       100.0\n",
       "Delaware       100.0\n",
       "Connecticut    100.0\n",
       "Name: sat19_participation, dtype: float64"
      ]
     },
     "execution_count": 62,
     "metadata": {},
     "output_type": "execute_result"
    }
   ],
   "source": [
    "final['sat19_participation'].sort_values(ascending=False).head()"
   ]
  },
  {
   "cell_type": "code",
   "execution_count": 63,
   "metadata": {},
   "outputs": [
    {
     "data": {
      "text/plain": [
       "state\n",
       "Wisconsin       3.0\n",
       "Nebraska        3.0\n",
       "South Dakota    3.0\n",
       "Wyoming         3.0\n",
       "North Dakota    2.0\n",
       "Name: sat19_participation, dtype: float64"
      ]
     },
     "execution_count": 63,
     "metadata": {},
     "output_type": "execute_result"
    }
   ],
   "source": [
    "final['sat19_participation'].sort_values(ascending=False).tail()"
   ]
  },
  {
   "cell_type": "code",
   "execution_count": 64,
   "metadata": {},
   "outputs": [
    {
     "data": {
      "text/plain": [
       "state\n",
       "Wyoming     100.0\n",
       "Oklahoma    100.0\n",
       "Arkansas    100.0\n",
       "Colorado    100.0\n",
       "Kentucky    100.0\n",
       "Name: act17_participation, dtype: float64"
      ]
     },
     "execution_count": 64,
     "metadata": {},
     "output_type": "execute_result"
    }
   ],
   "source": [
    "final['act17_participation'].sort_values(ascending=False).head()"
   ]
  },
  {
   "cell_type": "code",
   "execution_count": 65,
   "metadata": {},
   "outputs": [
    {
     "data": {
      "text/plain": [
       "state\n",
       "Pennsylvania     23.0\n",
       "Rhode Island     21.0\n",
       "Delaware         18.0\n",
       "New Hampshire    18.0\n",
       "Maine             8.0\n",
       "Name: act17_participation, dtype: float64"
      ]
     },
     "execution_count": 65,
     "metadata": {},
     "output_type": "execute_result"
    }
   ],
   "source": [
    "final['act17_participation'].sort_values(ascending=False).tail()"
   ]
  },
  {
   "cell_type": "code",
   "execution_count": 66,
   "metadata": {},
   "outputs": [
    {
     "data": {
      "text/plain": [
       "state\n",
       "Wyoming      100.0\n",
       "Oklahoma     100.0\n",
       "Arkansas     100.0\n",
       "Kentucky     100.0\n",
       "Louisiana    100.0\n",
       "Name: act18_participation, dtype: float64"
      ]
     },
     "execution_count": 66,
     "metadata": {},
     "output_type": "execute_result"
    }
   ],
   "source": [
    "final['act18_participation'].sort_values(ascending=False).head()"
   ]
  },
  {
   "cell_type": "code",
   "execution_count": 67,
   "metadata": {
    "scrolled": true
   },
   "outputs": [
    {
     "data": {
      "text/plain": [
       "state\n",
       "Pennsylvania     20.0\n",
       "Delaware         17.0\n",
       "New Hampshire    16.0\n",
       "Rhode Island     15.0\n",
       "Maine             7.0\n",
       "Name: act18_participation, dtype: float64"
      ]
     },
     "execution_count": 67,
     "metadata": {},
     "output_type": "execute_result"
    }
   ],
   "source": [
    "final['act18_participation'].sort_values(ascending=False).tail()"
   ]
  },
  {
   "cell_type": "code",
   "execution_count": 68,
   "metadata": {
    "scrolled": false
   },
   "outputs": [
    {
     "data": {
      "text/plain": [
       "state\n",
       "Wyoming      100.0\n",
       "Oklahoma     100.0\n",
       "Arkansas     100.0\n",
       "Kentucky     100.0\n",
       "Louisiana    100.0\n",
       "Name: act19_participation, dtype: float64"
      ]
     },
     "execution_count": 68,
     "metadata": {},
     "output_type": "execute_result"
    }
   ],
   "source": [
    "final['act19_participation'].sort_values(ascending=False).head()"
   ]
  },
  {
   "cell_type": "code",
   "execution_count": 69,
   "metadata": {},
   "outputs": [
    {
     "data": {
      "text/plain": [
       "state\n",
       "Pennsylvania     17.0\n",
       "New Hampshire    14.0\n",
       "Delaware         13.0\n",
       "Rhode Island     12.0\n",
       "Maine             6.0\n",
       "Name: act19_participation, dtype: float64"
      ]
     },
     "execution_count": 69,
     "metadata": {},
     "output_type": "execute_result"
    }
   ],
   "source": [
    "final['act19_participation'].sort_values(ascending=False).tail()"
   ]
  },
  {
   "cell_type": "markdown",
   "metadata": {},
   "source": [
    "<span style=\"color:blue\">\n",
    "\n",
    "The participation numbers can be interesting it seems like the ACT has better overall participation but the SAT has a growing number of states that are going up to 100%.  States like Colorado for example went from low participation to 100%"
   ]
  },
  {
   "cell_type": "code",
   "execution_count": 70,
   "metadata": {},
   "outputs": [
    {
     "data": {
      "text/plain": [
       "state\n",
       "Minnesota    1295\n",
       "Wisconsin    1291\n",
       "Iowa         1275\n",
       "Missouri     1271\n",
       "Kansas       1260\n",
       "Name: sat17_total, dtype: int64"
      ]
     },
     "execution_count": 70,
     "metadata": {},
     "output_type": "execute_result"
    }
   ],
   "source": [
    "final['sat17_total'].sort_values(ascending=False).head()"
   ]
  },
  {
   "cell_type": "code",
   "execution_count": 71,
   "metadata": {},
   "outputs": [
    {
     "data": {
      "text/plain": [
       "state\n",
       "Maine                   1012\n",
       "Michigan                1005\n",
       "Idaho                   1005\n",
       "Delaware                 996\n",
       "District of Columbia     950\n",
       "Name: sat17_total, dtype: int64"
      ]
     },
     "execution_count": 71,
     "metadata": {},
     "output_type": "execute_result"
    }
   ],
   "source": [
    "final['sat17_total'].sort_values(ascending=False).tail()"
   ]
  },
  {
   "cell_type": "code",
   "execution_count": 72,
   "metadata": {},
   "outputs": [
    {
     "data": {
      "text/plain": [
       "state\n",
       "Minnesota       1298\n",
       "Wisconsin       1294\n",
       "North Dakota    1283\n",
       "Iowa            1265\n",
       "Kansas          1265\n",
       "Name: sat18_total, dtype: int64"
      ]
     },
     "execution_count": 72,
     "metadata": {},
     "output_type": "execute_result"
    }
   ],
   "source": [
    "final['sat18_total'].sort_values(ascending=False).head()"
   ]
  },
  {
   "cell_type": "code",
   "execution_count": 73,
   "metadata": {},
   "outputs": [
    {
     "data": {
      "text/plain": [
       "state\n",
       "Utah                    1010\n",
       "Idaho                   1001\n",
       "West Virginia            999\n",
       "Delaware                 998\n",
       "District of Columbia     977\n",
       "Name: sat18_total, dtype: int64"
      ]
     },
     "execution_count": 73,
     "metadata": {},
     "output_type": "execute_result"
    }
   ],
   "source": [
    "final['sat18_total'].sort_values(ascending=False).tail()"
   ]
  },
  {
   "cell_type": "code",
   "execution_count": 74,
   "metadata": {},
   "outputs": [
    {
     "data": {
      "text/plain": [
       "state\n",
       "Minnesota       1284\n",
       "Wisconsin       1283\n",
       "South Dakota    1268\n",
       "North Dakota    1263\n",
       "Nebraska        1260\n",
       "Name: sat19_total, dtype: int64"
      ]
     },
     "execution_count": 74,
     "metadata": {},
     "output_type": "execute_result"
    }
   ],
   "source": [
    "final['sat19_total'].sort_values(ascending=False).head()"
   ]
  },
  {
   "cell_type": "code",
   "execution_count": 75,
   "metadata": {},
   "outputs": [
    {
     "data": {
      "text/plain": [
       "state\n",
       "Idaho                   993\n",
       "Delaware                985\n",
       "District of Columbia    975\n",
       "Oklahoma                963\n",
       "West Virginia           943\n",
       "Name: sat19_total, dtype: int64"
      ]
     },
     "execution_count": 75,
     "metadata": {},
     "output_type": "execute_result"
    }
   ],
   "source": [
    "final['sat19_total'].sort_values(ascending=False).tail()"
   ]
  },
  {
   "cell_type": "code",
   "execution_count": 76,
   "metadata": {},
   "outputs": [
    {
     "data": {
      "text/plain": [
       "state\n",
       "New Hampshire           25.5\n",
       "Massachusetts           25.4\n",
       "Connecticut             25.2\n",
       "Maine                   24.3\n",
       "District of Columbia    24.2\n",
       "Name: act17_composite, dtype: float64"
      ]
     },
     "execution_count": 76,
     "metadata": {},
     "output_type": "execute_result"
    }
   ],
   "source": [
    "final['act17_composite'].sort_values(ascending=False).head()"
   ]
  },
  {
   "cell_type": "code",
   "execution_count": 77,
   "metadata": {},
   "outputs": [
    {
     "data": {
      "text/plain": [
       "state\n",
       "North Carolina    19.1\n",
       "Hawaii            19.0\n",
       "South Carolina    18.7\n",
       "Mississippi       18.6\n",
       "Nevada            17.8\n",
       "Name: act17_composite, dtype: float64"
      ]
     },
     "execution_count": 77,
     "metadata": {},
     "output_type": "execute_result"
    }
   ],
   "source": [
    "final['act17_composite'].sort_values(ascending=False).tail()"
   ]
  },
  {
   "cell_type": "code",
   "execution_count": 78,
   "metadata": {},
   "outputs": [
    {
     "data": {
      "text/plain": [
       "state\n",
       "Connecticut      25.6\n",
       "Massachusetts    25.5\n",
       "New Hampshire    25.1\n",
       "New York         24.5\n",
       "Michigan         24.2\n",
       "Name: act18_composite, dtype: float64"
      ]
     },
     "execution_count": 78,
     "metadata": {},
     "output_type": "execute_result"
    }
   ],
   "source": [
    "final['act18_composite'].sort_values(ascending=False).head()"
   ]
  },
  {
   "cell_type": "code",
   "execution_count": 79,
   "metadata": {},
   "outputs": [
    {
     "data": {
      "text/plain": [
       "state\n",
       "Alabama           19.1\n",
       "Hawaii            18.9\n",
       "Mississippi       18.6\n",
       "South Carolina    18.3\n",
       "Nevada            17.7\n",
       "Name: act18_composite, dtype: float64"
      ]
     },
     "execution_count": 79,
     "metadata": {},
     "output_type": "execute_result"
    }
   ],
   "source": [
    "final['act18_composite'].sort_values(ascending=False).tail()"
   ]
  },
  {
   "cell_type": "code",
   "execution_count": 80,
   "metadata": {},
   "outputs": [
    {
     "data": {
      "text/plain": [
       "state\n",
       "Massachusetts    25.5\n",
       "Connecticut      25.5\n",
       "New Hampshire    25.0\n",
       "Rhode Island     24.7\n",
       "New York         24.5\n",
       "Name: act19_composite, dtype: float64"
      ]
     },
     "execution_count": 80,
     "metadata": {},
     "output_type": "execute_result"
    }
   ],
   "source": [
    "final['act19_composite'].sort_values(ascending=False).head()"
   ]
  },
  {
   "cell_type": "code",
   "execution_count": 81,
   "metadata": {},
   "outputs": [
    {
     "data": {
      "text/plain": [
       "state\n",
       "Alabama           18.9\n",
       "Louisiana         18.8\n",
       "South Carolina    18.8\n",
       "Mississippi       18.4\n",
       "Nevada            17.9\n",
       "Name: act19_composite, dtype: float64"
      ]
     },
     "execution_count": 81,
     "metadata": {},
     "output_type": "execute_result"
    }
   ],
   "source": [
    "final['act19_composite'].sort_values(ascending=False).tail()"
   ]
  },
  {
   "cell_type": "markdown",
   "metadata": {},
   "source": [
    "<span style=\"color:blue\">\n",
    "    \n",
    "It is interesting that the SAT scores for some of the top states are also those that have a low participation rate.\n",
    "This also seems to be true for the ACT scores.   "
   ]
  },
  {
   "cell_type": "code",
   "execution_count": 82,
   "metadata": {},
   "outputs": [
    {
     "data": {
      "text/html": [
       "<div>\n",
       "<style scoped>\n",
       "    .dataframe tbody tr th:only-of-type {\n",
       "        vertical-align: middle;\n",
       "    }\n",
       "\n",
       "    .dataframe tbody tr th {\n",
       "        vertical-align: top;\n",
       "    }\n",
       "\n",
       "    .dataframe thead th {\n",
       "        text-align: right;\n",
       "    }\n",
       "</style>\n",
       "<table border=\"1\" class=\"dataframe\">\n",
       "  <thead>\n",
       "    <tr style=\"text-align: right;\">\n",
       "      <th></th>\n",
       "      <th>sat17_participation</th>\n",
       "      <th>sat17_writing</th>\n",
       "      <th>sat17_math</th>\n",
       "      <th>sat17_total</th>\n",
       "      <th>act17_participation</th>\n",
       "      <th>act17_english</th>\n",
       "      <th>act17_math</th>\n",
       "      <th>act17_reading</th>\n",
       "      <th>act17_science</th>\n",
       "      <th>act17_composite</th>\n",
       "      <th>...</th>\n",
       "      <th>sat18_math</th>\n",
       "      <th>sat18_total</th>\n",
       "      <th>act18_participation</th>\n",
       "      <th>act18_composite</th>\n",
       "      <th>sat19_participation</th>\n",
       "      <th>sat19_writing</th>\n",
       "      <th>sat19_math</th>\n",
       "      <th>sat19_total</th>\n",
       "      <th>act19_participation</th>\n",
       "      <th>act19_composite</th>\n",
       "    </tr>\n",
       "    <tr>\n",
       "      <th>state</th>\n",
       "      <th></th>\n",
       "      <th></th>\n",
       "      <th></th>\n",
       "      <th></th>\n",
       "      <th></th>\n",
       "      <th></th>\n",
       "      <th></th>\n",
       "      <th></th>\n",
       "      <th></th>\n",
       "      <th></th>\n",
       "      <th></th>\n",
       "      <th></th>\n",
       "      <th></th>\n",
       "      <th></th>\n",
       "      <th></th>\n",
       "      <th></th>\n",
       "      <th></th>\n",
       "      <th></th>\n",
       "      <th></th>\n",
       "      <th></th>\n",
       "      <th></th>\n",
       "    </tr>\n",
       "  </thead>\n",
       "  <tbody>\n",
       "    <tr>\n",
       "      <th>Florida</th>\n",
       "      <td>83.0</td>\n",
       "      <td>520</td>\n",
       "      <td>497</td>\n",
       "      <td>1017</td>\n",
       "      <td>73.0</td>\n",
       "      <td>19.0</td>\n",
       "      <td>19.4</td>\n",
       "      <td>21.0</td>\n",
       "      <td>19.4</td>\n",
       "      <td>19.8</td>\n",
       "      <td>...</td>\n",
       "      <td>549</td>\n",
       "      <td>1099</td>\n",
       "      <td>66.0</td>\n",
       "      <td>19.9</td>\n",
       "      <td>100.0</td>\n",
       "      <td>516</td>\n",
       "      <td>483</td>\n",
       "      <td>999</td>\n",
       "      <td>54.0</td>\n",
       "      <td>20.1</td>\n",
       "    </tr>\n",
       "    <tr>\n",
       "      <th>Georgia</th>\n",
       "      <td>61.0</td>\n",
       "      <td>535</td>\n",
       "      <td>515</td>\n",
       "      <td>1050</td>\n",
       "      <td>55.0</td>\n",
       "      <td>21.0</td>\n",
       "      <td>20.9</td>\n",
       "      <td>22.0</td>\n",
       "      <td>21.3</td>\n",
       "      <td>21.4</td>\n",
       "      <td>...</td>\n",
       "      <td>522</td>\n",
       "      <td>1064</td>\n",
       "      <td>53.0</td>\n",
       "      <td>21.4</td>\n",
       "      <td>71.0</td>\n",
       "      <td>538</td>\n",
       "      <td>519</td>\n",
       "      <td>1058</td>\n",
       "      <td>49.0</td>\n",
       "      <td>21.4</td>\n",
       "    </tr>\n",
       "    <tr>\n",
       "      <th>Hawaii</th>\n",
       "      <td>55.0</td>\n",
       "      <td>544</td>\n",
       "      <td>541</td>\n",
       "      <td>1085</td>\n",
       "      <td>90.0</td>\n",
       "      <td>17.8</td>\n",
       "      <td>19.2</td>\n",
       "      <td>19.2</td>\n",
       "      <td>19.3</td>\n",
       "      <td>19.0</td>\n",
       "      <td>...</td>\n",
       "      <td>530</td>\n",
       "      <td>1010</td>\n",
       "      <td>89.0</td>\n",
       "      <td>18.9</td>\n",
       "      <td>54.0</td>\n",
       "      <td>550</td>\n",
       "      <td>550</td>\n",
       "      <td>1100</td>\n",
       "      <td>80.0</td>\n",
       "      <td>19.0</td>\n",
       "    </tr>\n",
       "  </tbody>\n",
       "</table>\n",
       "<p>3 rows × 22 columns</p>\n",
       "</div>"
      ],
      "text/plain": [
       "         sat17_participation  sat17_writing  sat17_math  sat17_total  \\\n",
       "state                                                                  \n",
       "Florida                 83.0            520         497         1017   \n",
       "Georgia                 61.0            535         515         1050   \n",
       "Hawaii                  55.0            544         541         1085   \n",
       "\n",
       "         act17_participation  act17_english  act17_math  act17_reading  \\\n",
       "state                                                                    \n",
       "Florida                 73.0           19.0        19.4           21.0   \n",
       "Georgia                 55.0           21.0        20.9           22.0   \n",
       "Hawaii                  90.0           17.8        19.2           19.2   \n",
       "\n",
       "         act17_science  act17_composite  ...  sat18_math  sat18_total  \\\n",
       "state                                    ...                            \n",
       "Florida           19.4             19.8  ...         549         1099   \n",
       "Georgia           21.3             21.4  ...         522         1064   \n",
       "Hawaii            19.3             19.0  ...         530         1010   \n",
       "\n",
       "         act18_participation  act18_composite  sat19_participation  \\\n",
       "state                                                                \n",
       "Florida                 66.0             19.9                100.0   \n",
       "Georgia                 53.0             21.4                 71.0   \n",
       "Hawaii                  89.0             18.9                 54.0   \n",
       "\n",
       "         sat19_writing  sat19_math  sat19_total  act19_participation  \\\n",
       "state                                                                  \n",
       "Florida            516         483          999                 54.0   \n",
       "Georgia            538         519         1058                 49.0   \n",
       "Hawaii             550         550         1100                 80.0   \n",
       "\n",
       "         act19_composite  \n",
       "state                     \n",
       "Florida             20.1  \n",
       "Georgia             21.4  \n",
       "Hawaii              19.0  \n",
       "\n",
       "[3 rows x 22 columns]"
      ]
     },
     "execution_count": 82,
     "metadata": {},
     "output_type": "execute_result"
    }
   ],
   "source": [
    "final[(final['sat17_participation'] > 50) & (final['act17_participation'] > 50)]"
   ]
  },
  {
   "cell_type": "code",
   "execution_count": 83,
   "metadata": {},
   "outputs": [
    {
     "data": {
      "text/html": [
       "<div>\n",
       "<style scoped>\n",
       "    .dataframe tbody tr th:only-of-type {\n",
       "        vertical-align: middle;\n",
       "    }\n",
       "\n",
       "    .dataframe tbody tr th {\n",
       "        vertical-align: top;\n",
       "    }\n",
       "\n",
       "    .dataframe thead th {\n",
       "        text-align: right;\n",
       "    }\n",
       "</style>\n",
       "<table border=\"1\" class=\"dataframe\">\n",
       "  <thead>\n",
       "    <tr style=\"text-align: right;\">\n",
       "      <th></th>\n",
       "      <th>sat17_participation</th>\n",
       "      <th>sat17_writing</th>\n",
       "      <th>sat17_math</th>\n",
       "      <th>sat17_total</th>\n",
       "      <th>act17_participation</th>\n",
       "      <th>act17_english</th>\n",
       "      <th>act17_math</th>\n",
       "      <th>act17_reading</th>\n",
       "      <th>act17_science</th>\n",
       "      <th>act17_composite</th>\n",
       "      <th>...</th>\n",
       "      <th>sat18_math</th>\n",
       "      <th>sat18_total</th>\n",
       "      <th>act18_participation</th>\n",
       "      <th>act18_composite</th>\n",
       "      <th>sat19_participation</th>\n",
       "      <th>sat19_writing</th>\n",
       "      <th>sat19_math</th>\n",
       "      <th>sat19_total</th>\n",
       "      <th>act19_participation</th>\n",
       "      <th>act19_composite</th>\n",
       "    </tr>\n",
       "    <tr>\n",
       "      <th>state</th>\n",
       "      <th></th>\n",
       "      <th></th>\n",
       "      <th></th>\n",
       "      <th></th>\n",
       "      <th></th>\n",
       "      <th></th>\n",
       "      <th></th>\n",
       "      <th></th>\n",
       "      <th></th>\n",
       "      <th></th>\n",
       "      <th></th>\n",
       "      <th></th>\n",
       "      <th></th>\n",
       "      <th></th>\n",
       "      <th></th>\n",
       "      <th></th>\n",
       "      <th></th>\n",
       "      <th></th>\n",
       "      <th></th>\n",
       "      <th></th>\n",
       "      <th></th>\n",
       "    </tr>\n",
       "  </thead>\n",
       "  <tbody>\n",
       "    <tr>\n",
       "      <th>Florida</th>\n",
       "      <td>83.0</td>\n",
       "      <td>520</td>\n",
       "      <td>497</td>\n",
       "      <td>1017</td>\n",
       "      <td>73.0</td>\n",
       "      <td>19.0</td>\n",
       "      <td>19.4</td>\n",
       "      <td>21.0</td>\n",
       "      <td>19.4</td>\n",
       "      <td>19.8</td>\n",
       "      <td>...</td>\n",
       "      <td>549</td>\n",
       "      <td>1099</td>\n",
       "      <td>66.0</td>\n",
       "      <td>19.9</td>\n",
       "      <td>100.0</td>\n",
       "      <td>516</td>\n",
       "      <td>483</td>\n",
       "      <td>999</td>\n",
       "      <td>54.0</td>\n",
       "      <td>20.1</td>\n",
       "    </tr>\n",
       "    <tr>\n",
       "      <th>Georgia</th>\n",
       "      <td>61.0</td>\n",
       "      <td>535</td>\n",
       "      <td>515</td>\n",
       "      <td>1050</td>\n",
       "      <td>55.0</td>\n",
       "      <td>21.0</td>\n",
       "      <td>20.9</td>\n",
       "      <td>22.0</td>\n",
       "      <td>21.3</td>\n",
       "      <td>21.4</td>\n",
       "      <td>...</td>\n",
       "      <td>522</td>\n",
       "      <td>1064</td>\n",
       "      <td>53.0</td>\n",
       "      <td>21.4</td>\n",
       "      <td>71.0</td>\n",
       "      <td>538</td>\n",
       "      <td>519</td>\n",
       "      <td>1058</td>\n",
       "      <td>49.0</td>\n",
       "      <td>21.4</td>\n",
       "    </tr>\n",
       "    <tr>\n",
       "      <th>Hawaii</th>\n",
       "      <td>55.0</td>\n",
       "      <td>544</td>\n",
       "      <td>541</td>\n",
       "      <td>1085</td>\n",
       "      <td>90.0</td>\n",
       "      <td>17.8</td>\n",
       "      <td>19.2</td>\n",
       "      <td>19.2</td>\n",
       "      <td>19.3</td>\n",
       "      <td>19.0</td>\n",
       "      <td>...</td>\n",
       "      <td>530</td>\n",
       "      <td>1010</td>\n",
       "      <td>89.0</td>\n",
       "      <td>18.9</td>\n",
       "      <td>54.0</td>\n",
       "      <td>550</td>\n",
       "      <td>550</td>\n",
       "      <td>1100</td>\n",
       "      <td>80.0</td>\n",
       "      <td>19.0</td>\n",
       "    </tr>\n",
       "    <tr>\n",
       "      <th>North Carolina</th>\n",
       "      <td>49.0</td>\n",
       "      <td>546</td>\n",
       "      <td>535</td>\n",
       "      <td>1081</td>\n",
       "      <td>100.0</td>\n",
       "      <td>17.8</td>\n",
       "      <td>19.3</td>\n",
       "      <td>19.6</td>\n",
       "      <td>19.3</td>\n",
       "      <td>19.1</td>\n",
       "      <td>...</td>\n",
       "      <td>543</td>\n",
       "      <td>1098</td>\n",
       "      <td>100.0</td>\n",
       "      <td>19.1</td>\n",
       "      <td>51.0</td>\n",
       "      <td>554</td>\n",
       "      <td>546</td>\n",
       "      <td>1100</td>\n",
       "      <td>100.0</td>\n",
       "      <td>19.0</td>\n",
       "    </tr>\n",
       "    <tr>\n",
       "      <th>South Carolina</th>\n",
       "      <td>50.0</td>\n",
       "      <td>543</td>\n",
       "      <td>521</td>\n",
       "      <td>1064</td>\n",
       "      <td>100.0</td>\n",
       "      <td>17.5</td>\n",
       "      <td>18.6</td>\n",
       "      <td>19.1</td>\n",
       "      <td>18.9</td>\n",
       "      <td>18.7</td>\n",
       "      <td>...</td>\n",
       "      <td>523</td>\n",
       "      <td>1070</td>\n",
       "      <td>100.0</td>\n",
       "      <td>18.3</td>\n",
       "      <td>68.0</td>\n",
       "      <td>526</td>\n",
       "      <td>504</td>\n",
       "      <td>1030</td>\n",
       "      <td>78.0</td>\n",
       "      <td>18.8</td>\n",
       "    </tr>\n",
       "  </tbody>\n",
       "</table>\n",
       "<p>5 rows × 22 columns</p>\n",
       "</div>"
      ],
      "text/plain": [
       "                sat17_participation  sat17_writing  sat17_math  sat17_total  \\\n",
       "state                                                                         \n",
       "Florida                        83.0            520         497         1017   \n",
       "Georgia                        61.0            535         515         1050   \n",
       "Hawaii                         55.0            544         541         1085   \n",
       "North Carolina                 49.0            546         535         1081   \n",
       "South Carolina                 50.0            543         521         1064   \n",
       "\n",
       "                act17_participation  act17_english  act17_math  act17_reading  \\\n",
       "state                                                                           \n",
       "Florida                        73.0           19.0        19.4           21.0   \n",
       "Georgia                        55.0           21.0        20.9           22.0   \n",
       "Hawaii                         90.0           17.8        19.2           19.2   \n",
       "North Carolina                100.0           17.8        19.3           19.6   \n",
       "South Carolina                100.0           17.5        18.6           19.1   \n",
       "\n",
       "                act17_science  act17_composite  ...  sat18_math  sat18_total  \\\n",
       "state                                           ...                            \n",
       "Florida                  19.4             19.8  ...         549         1099   \n",
       "Georgia                  21.3             21.4  ...         522         1064   \n",
       "Hawaii                   19.3             19.0  ...         530         1010   \n",
       "North Carolina           19.3             19.1  ...         543         1098   \n",
       "South Carolina           18.9             18.7  ...         523         1070   \n",
       "\n",
       "                act18_participation  act18_composite  sat19_participation  \\\n",
       "state                                                                       \n",
       "Florida                        66.0             19.9                100.0   \n",
       "Georgia                        53.0             21.4                 71.0   \n",
       "Hawaii                         89.0             18.9                 54.0   \n",
       "North Carolina                100.0             19.1                 51.0   \n",
       "South Carolina                100.0             18.3                 68.0   \n",
       "\n",
       "                sat19_writing  sat19_math  sat19_total  act19_participation  \\\n",
       "state                                                                         \n",
       "Florida                   516         483          999                 54.0   \n",
       "Georgia                   538         519         1058                 49.0   \n",
       "Hawaii                    550         550         1100                 80.0   \n",
       "North Carolina            554         546         1100                100.0   \n",
       "South Carolina            526         504         1030                 78.0   \n",
       "\n",
       "                act19_composite  \n",
       "state                            \n",
       "Florida                    20.1  \n",
       "Georgia                    21.4  \n",
       "Hawaii                     19.0  \n",
       "North Carolina             19.0  \n",
       "South Carolina             18.8  \n",
       "\n",
       "[5 rows x 22 columns]"
      ]
     },
     "execution_count": 83,
     "metadata": {},
     "output_type": "execute_result"
    }
   ],
   "source": [
    "final[(final['sat18_participation'] > 50) & (final['act18_participation'] > 50)]"
   ]
  },
  {
   "cell_type": "code",
   "execution_count": 84,
   "metadata": {},
   "outputs": [
    {
     "data": {
      "text/html": [
       "<div>\n",
       "<style scoped>\n",
       "    .dataframe tbody tr th:only-of-type {\n",
       "        vertical-align: middle;\n",
       "    }\n",
       "\n",
       "    .dataframe tbody tr th {\n",
       "        vertical-align: top;\n",
       "    }\n",
       "\n",
       "    .dataframe thead th {\n",
       "        text-align: right;\n",
       "    }\n",
       "</style>\n",
       "<table border=\"1\" class=\"dataframe\">\n",
       "  <thead>\n",
       "    <tr style=\"text-align: right;\">\n",
       "      <th></th>\n",
       "      <th>sat17_participation</th>\n",
       "      <th>sat17_writing</th>\n",
       "      <th>sat17_math</th>\n",
       "      <th>sat17_total</th>\n",
       "      <th>act17_participation</th>\n",
       "      <th>act17_english</th>\n",
       "      <th>act17_math</th>\n",
       "      <th>act17_reading</th>\n",
       "      <th>act17_science</th>\n",
       "      <th>act17_composite</th>\n",
       "      <th>...</th>\n",
       "      <th>sat18_math</th>\n",
       "      <th>sat18_total</th>\n",
       "      <th>act18_participation</th>\n",
       "      <th>act18_composite</th>\n",
       "      <th>sat19_participation</th>\n",
       "      <th>sat19_writing</th>\n",
       "      <th>sat19_math</th>\n",
       "      <th>sat19_total</th>\n",
       "      <th>act19_participation</th>\n",
       "      <th>act19_composite</th>\n",
       "    </tr>\n",
       "    <tr>\n",
       "      <th>state</th>\n",
       "      <th></th>\n",
       "      <th></th>\n",
       "      <th></th>\n",
       "      <th></th>\n",
       "      <th></th>\n",
       "      <th></th>\n",
       "      <th></th>\n",
       "      <th></th>\n",
       "      <th></th>\n",
       "      <th></th>\n",
       "      <th></th>\n",
       "      <th></th>\n",
       "      <th></th>\n",
       "      <th></th>\n",
       "      <th></th>\n",
       "      <th></th>\n",
       "      <th></th>\n",
       "      <th></th>\n",
       "      <th></th>\n",
       "      <th></th>\n",
       "      <th></th>\n",
       "    </tr>\n",
       "  </thead>\n",
       "  <tbody>\n",
       "    <tr>\n",
       "      <th>Florida</th>\n",
       "      <td>83.0</td>\n",
       "      <td>520</td>\n",
       "      <td>497</td>\n",
       "      <td>1017</td>\n",
       "      <td>73.0</td>\n",
       "      <td>19.0</td>\n",
       "      <td>19.4</td>\n",
       "      <td>21.0</td>\n",
       "      <td>19.4</td>\n",
       "      <td>19.8</td>\n",
       "      <td>...</td>\n",
       "      <td>549</td>\n",
       "      <td>1099</td>\n",
       "      <td>66.0</td>\n",
       "      <td>19.9</td>\n",
       "      <td>100.0</td>\n",
       "      <td>516</td>\n",
       "      <td>483</td>\n",
       "      <td>999</td>\n",
       "      <td>54.0</td>\n",
       "      <td>20.1</td>\n",
       "    </tr>\n",
       "    <tr>\n",
       "      <th>Hawaii</th>\n",
       "      <td>55.0</td>\n",
       "      <td>544</td>\n",
       "      <td>541</td>\n",
       "      <td>1085</td>\n",
       "      <td>90.0</td>\n",
       "      <td>17.8</td>\n",
       "      <td>19.2</td>\n",
       "      <td>19.2</td>\n",
       "      <td>19.3</td>\n",
       "      <td>19.0</td>\n",
       "      <td>...</td>\n",
       "      <td>530</td>\n",
       "      <td>1010</td>\n",
       "      <td>89.0</td>\n",
       "      <td>18.9</td>\n",
       "      <td>54.0</td>\n",
       "      <td>550</td>\n",
       "      <td>550</td>\n",
       "      <td>1100</td>\n",
       "      <td>80.0</td>\n",
       "      <td>19.0</td>\n",
       "    </tr>\n",
       "    <tr>\n",
       "      <th>North Carolina</th>\n",
       "      <td>49.0</td>\n",
       "      <td>546</td>\n",
       "      <td>535</td>\n",
       "      <td>1081</td>\n",
       "      <td>100.0</td>\n",
       "      <td>17.8</td>\n",
       "      <td>19.3</td>\n",
       "      <td>19.6</td>\n",
       "      <td>19.3</td>\n",
       "      <td>19.1</td>\n",
       "      <td>...</td>\n",
       "      <td>543</td>\n",
       "      <td>1098</td>\n",
       "      <td>100.0</td>\n",
       "      <td>19.1</td>\n",
       "      <td>51.0</td>\n",
       "      <td>554</td>\n",
       "      <td>546</td>\n",
       "      <td>1100</td>\n",
       "      <td>100.0</td>\n",
       "      <td>19.0</td>\n",
       "    </tr>\n",
       "    <tr>\n",
       "      <th>South Carolina</th>\n",
       "      <td>50.0</td>\n",
       "      <td>543</td>\n",
       "      <td>521</td>\n",
       "      <td>1064</td>\n",
       "      <td>100.0</td>\n",
       "      <td>17.5</td>\n",
       "      <td>18.6</td>\n",
       "      <td>19.1</td>\n",
       "      <td>18.9</td>\n",
       "      <td>18.7</td>\n",
       "      <td>...</td>\n",
       "      <td>523</td>\n",
       "      <td>1070</td>\n",
       "      <td>100.0</td>\n",
       "      <td>18.3</td>\n",
       "      <td>68.0</td>\n",
       "      <td>526</td>\n",
       "      <td>504</td>\n",
       "      <td>1030</td>\n",
       "      <td>78.0</td>\n",
       "      <td>18.8</td>\n",
       "    </tr>\n",
       "  </tbody>\n",
       "</table>\n",
       "<p>4 rows × 22 columns</p>\n",
       "</div>"
      ],
      "text/plain": [
       "                sat17_participation  sat17_writing  sat17_math  sat17_total  \\\n",
       "state                                                                         \n",
       "Florida                        83.0            520         497         1017   \n",
       "Hawaii                         55.0            544         541         1085   \n",
       "North Carolina                 49.0            546         535         1081   \n",
       "South Carolina                 50.0            543         521         1064   \n",
       "\n",
       "                act17_participation  act17_english  act17_math  act17_reading  \\\n",
       "state                                                                           \n",
       "Florida                        73.0           19.0        19.4           21.0   \n",
       "Hawaii                         90.0           17.8        19.2           19.2   \n",
       "North Carolina                100.0           17.8        19.3           19.6   \n",
       "South Carolina                100.0           17.5        18.6           19.1   \n",
       "\n",
       "                act17_science  act17_composite  ...  sat18_math  sat18_total  \\\n",
       "state                                           ...                            \n",
       "Florida                  19.4             19.8  ...         549         1099   \n",
       "Hawaii                   19.3             19.0  ...         530         1010   \n",
       "North Carolina           19.3             19.1  ...         543         1098   \n",
       "South Carolina           18.9             18.7  ...         523         1070   \n",
       "\n",
       "                act18_participation  act18_composite  sat19_participation  \\\n",
       "state                                                                       \n",
       "Florida                        66.0             19.9                100.0   \n",
       "Hawaii                         89.0             18.9                 54.0   \n",
       "North Carolina                100.0             19.1                 51.0   \n",
       "South Carolina                100.0             18.3                 68.0   \n",
       "\n",
       "                sat19_writing  sat19_math  sat19_total  act19_participation  \\\n",
       "state                                                                         \n",
       "Florida                   516         483          999                 54.0   \n",
       "Hawaii                    550         550         1100                 80.0   \n",
       "North Carolina            554         546         1100                100.0   \n",
       "South Carolina            526         504         1030                 78.0   \n",
       "\n",
       "                act19_composite  \n",
       "state                            \n",
       "Florida                    20.1  \n",
       "Hawaii                     19.0  \n",
       "North Carolina             19.0  \n",
       "South Carolina             18.8  \n",
       "\n",
       "[4 rows x 22 columns]"
      ]
     },
     "execution_count": 84,
     "metadata": {},
     "output_type": "execute_result"
    }
   ],
   "source": [
    "final[(final['sat19_participation'] > 50) & (final['act19_participation'] > 50)]"
   ]
  },
  {
   "cell_type": "markdown",
   "metadata": {},
   "source": [
    "<span style=\"color:blue\">\n",
    "    \n",
    "This last set makes North and South Carolina interesting as they already had 100% ACT participation, except South Carolin in 2019, but the SAT increases.  "
   ]
  },
  {
   "cell_type": "markdown",
   "metadata": {},
   "source": [
    "## Visualize the data\n",
    "\n"
   ]
  },
  {
   "cell_type": "code",
   "execution_count": 85,
   "metadata": {},
   "outputs": [
    {
     "data": {
      "image/png": "[encoded data removed]",
      "text/plain": [
       "<Figure size 1800x1152 with 2 Axes>"
      ]
     },
     "metadata": {
      "needs_background": "light"
     },
     "output_type": "display_data"
    }
   ],
   "source": [
    "# from lesson 2.02b\n",
    "\n",
    "# Heat map of the data\n",
    "\n",
    "plt.figure(figsize = (25,16))\n",
    "\n",
    "\n",
    "corr = final_data.corr()\n",
    "\n",
    "# Set up mask to be \"True\" in the upper triangle.\n",
    "mask = np.zeros_like(corr)\n",
    "mask[np.triu_indices_from(mask)] = True\n",
    "\n",
    "# Plot our correlation heatmap, while masking the upper triangle to be white.\n",
    "with sns.axes_style(\"dark\"):\n",
    "    sns.heatmap(corr, mask = mask, square = True, annot = True, vmin = -1, vmax = 1, linewidths = .5, cmap='coolwarm')\n",
    "    \n",
    "plt.title('Corrolation of the different data values');"
   ]
  },
  {
   "cell_type": "markdown",
   "metadata": {},
   "source": [
    "<span style=\"color:blue\">\n",
    "    \n",
    "This shows some interesting correlations related to the participation rate and test scores.  \n",
    "- higher participation equaled lower scores \n",
    "- higher participation in one test meant lower participation in the other"
   ]
  },
  {
   "cell_type": "code",
   "execution_count": 86,
   "metadata": {},
   "outputs": [],
   "source": [
    "# Subplot Function for histograms\n",
    "def subplot_histograms(dataframe, list_of_columns, list_of_titles, list_of_xlabels):\n",
    "    nrows = int(np.ceil(len(list_of_columns)/2)) # Makes sure you have enough rows\n",
    "    fig, ax = plt.subplots(nrows=nrows, ncols=2, figsize=(20,15)) \n",
    "    ax = ax.ravel() # Ravel turns a matrix into a vector, which is easier to iterate\n",
    "    for i, column in enumerate(list_of_columns): # Gives us an index value to get into all our lists\n",
    "        ax[i].hist(dataframe[column])\n",
    "        ax[i].set_title(list_of_titles[i])\n",
    "        ax[i].set_xlabel(list_of_xlabels[i])"
   ]
  },
  {
   "cell_type": "markdown",
   "metadata": {},
   "source": [
    "#### Plot and interpret histograms \n"
   ]
  },
  {
   "cell_type": "code",
   "execution_count": 87,
   "metadata": {},
   "outputs": [
    {
     "data": {
      "image/png": "[encoded data removed]",
      "text/plain": [
       "<Figure size 1440x1080 with 6 Axes>"
      ]
     },
     "metadata": {
      "needs_background": "light"
     },
     "output_type": "display_data"
    }
   ],
   "source": [
    "# calls the subplot function\n",
    "list_columns = ['sat17_participation', 'act17_participation', 'sat18_participation', 'act18_participation', 'sat19_participation', 'act19_participation']\n",
    "list_titles = ['SAT 2017 Participation', 'ACT 2017 Participation', 'SAT 2018 Participation', 'ACT 2018 Participation','SAT 2019 Participation','ACT 2019 Participation']\n",
    "list_xlabels = ['Total Participation', 'Total Participation', 'Total Participation', 'Total Participation','Total Participation' ,'Total Participation']\n",
    "subplot_histograms(final_data, list_columns, list_titles, list_xlabels)\n"
   ]
  },
  {
   "cell_type": "markdown",
   "metadata": {},
   "source": [
    "<span style=\"color:blue\">\n",
    "    \n",
    "Participation tends to be very skewed it is often very low or very high, not as many in the middle."
   ]
  },
  {
   "cell_type": "code",
   "execution_count": 88,
   "metadata": {},
   "outputs": [
    {
     "data": {
      "image/png": "[encoded data removed]",
      "text/plain": [
       "<Figure size 1440x1080 with 4 Axes>"
      ]
     },
     "metadata": {
      "needs_background": "light"
     },
     "output_type": "display_data"
    }
   ],
   "source": [
    "# calls the subplot function\n",
    "list_columns_math = ['sat17_math', 'act17_math', 'sat18_math', 'sat19_math']\n",
    "list_titles_math = ['SAT 2017 Math', 'ACT 2017 Math', 'SAT 2018 Math', 'SAT 2019 Math']\n",
    "list_xlabels_math = ['SAT Math Score per State', 'ACT Math Score per State', 'SAT Math Score per State', 'SAT Math Score per State']\n",
    "subplot_histograms(final_data, list_columns_math, list_titles_math, list_xlabels_math)\n",
    "\n"
   ]
  },
  {
   "cell_type": "markdown",
   "metadata": {},
   "source": [
    "<span style=\"color:blue\">\n",
    "    \n",
    "Both tests seem to follow a similar pattern with a large number around a lower value then a dip in scores and another group at the high value. \n",
    "    \n",
    "    "
   ]
  },
  {
   "cell_type": "code",
   "execution_count": 89,
   "metadata": {},
   "outputs": [
    {
     "data": {
      "image/png": "[encoded data removed]",
      "text/plain": [
       "<Figure size 1440x1080 with 4 Axes>"
      ]
     },
     "metadata": {
      "needs_background": "light"
     },
     "output_type": "display_data"
    }
   ],
   "source": [
    "# calls the subplot function\n",
    "list_columns_read = ['sat17_writing', 'act17_reading', 'sat18_writing', 'sat19_writing']\n",
    "list_titles_read = ['SAT 2017 Reading and Writing', 'ACT 2017 Reading and Writing', 'SAT 2018 Reading and Writing', 'SAT 2019 Reading and Writing']\n",
    "list_xlabels_read = ['SAT Reading and Writing Score per State', 'ACT Reading and Writing Score per State', 'SAT Reading and Writing Score per State', 'SAT Reading and Writing Score per State']\n",
    "subplot_histograms(final_data, list_columns_read, list_titles_read, list_xlabels_read)"
   ]
  },
  {
   "cell_type": "markdown",
   "metadata": {},
   "source": [
    "<span style=\"color:blue\">\n",
    "    \n",
    "The Reading and writing scores seem to follow about the same trend as the math with a high value then a dip then another spike."
   ]
  },
  {
   "cell_type": "markdown",
   "metadata": {},
   "source": [
    "#### Plot and interpret scatter plots\n",
    "\n"
   ]
  },
  {
   "cell_type": "code",
   "execution_count": 90,
   "metadata": {},
   "outputs": [
    {
     "data": {
      "image/png": "[encoded data removed]",
      "text/plain": [
       "<Figure size 1152x648 with 1 Axes>"
      ]
     },
     "metadata": {
      "needs_background": "light"
     },
     "output_type": "display_data"
    }
   ],
   "source": [
    "# from lesson 2.02b\n",
    "\n",
    "plt.figure(figsize = (16, 9))\n",
    "plt.scatter(final_data['sat17_math'],\n",
    "           final_data['act17_math']\n",
    "           )\n",
    "\n",
    "plt.title(\"Math scores between the SAT and ACT in 2017\")\n",
    "plt.ylabel(\"ACT Math score by State\", fontsize = 12)\n",
    "plt.xlabel(\"SAT Math score by State\", fontsize = 12);"
   ]
  },
  {
   "cell_type": "markdown",
   "metadata": {},
   "source": [
    "<span style=\"color:blue\">\n",
    "    \n",
    "Shows a rather loose negative correlation between the two tests"
   ]
  },
  {
   "cell_type": "code",
   "execution_count": 91,
   "metadata": {},
   "outputs": [
    {
     "data": {
      "image/png": "[encoded data removed]",
      "text/plain": [
       "<Figure size 1152x648 with 1 Axes>"
      ]
     },
     "metadata": {
      "needs_background": "light"
     },
     "output_type": "display_data"
    }
   ],
   "source": [
    "plt.figure(figsize = (16, 9))\n",
    "plt.scatter(final_data['sat17_writing'],\n",
    "           final_data['act17_reading']\n",
    "           )\n",
    "\n",
    "plt.title(\"Reading and Writing scores between the SAT and ACT in 2017\")\n",
    "plt.ylabel(\"ACT Reading score by State\", fontsize = 12)\n",
    "plt.xlabel(\"SAT Reading score by State\", fontsize = 12);"
   ]
  },
  {
   "cell_type": "markdown",
   "metadata": {},
   "source": [
    "<span style=\"color:blue\">\n",
    "    \n",
    "About the same as math shows a rather loose negative correlation between the two tests"
   ]
  },
  {
   "cell_type": "code",
   "execution_count": 92,
   "metadata": {},
   "outputs": [
    {
     "data": {
      "image/png": "[encoded data removed]",
      "text/plain": [
       "<Figure size 1152x648 with 1 Axes>"
      ]
     },
     "metadata": {
      "needs_background": "light"
     },
     "output_type": "display_data"
    }
   ],
   "source": [
    "plt.figure(figsize = (16, 9))\n",
    "plt.scatter(final_data['sat17_total'],\n",
    "           final_data['act17_composite']\n",
    "           )\n",
    "\n",
    "plt.title(\"Final scores between the SAT and ACT in 2017\")\n",
    "plt.ylabel(\"ACT Composite score by State\", fontsize = 12)\n",
    "plt.xlabel(\"SAT Total score by State\", fontsize = 12);"
   ]
  },
  {
   "cell_type": "markdown",
   "metadata": {},
   "source": [
    "<span style=\"color:blue\">\n",
    "    \n",
    "Again the same shows a rather loose negative correlation between the two tests"
   ]
  },
  {
   "cell_type": "code",
   "execution_count": 93,
   "metadata": {},
   "outputs": [
    {
     "data": {
      "image/png": "[encoded data removed]",
      "text/plain": [
       "<Figure size 1152x648 with 1 Axes>"
      ]
     },
     "metadata": {
      "needs_background": "light"
     },
     "output_type": "display_data"
    }
   ],
   "source": [
    "plt.figure(figsize = (16, 9))\n",
    "plt.scatter(final_data['sat17_total'],\n",
    "           final_data['sat18_total']\n",
    "           )\n",
    "\n",
    "plt.title(\"Final scores between the SAT in 2017 and 2018\")\n",
    "plt.ylabel(\"SAT Total score by State\", fontsize = 12)\n",
    "plt.xlabel(\"SAT Total score by State\", fontsize = 12);"
   ]
  },
  {
   "cell_type": "markdown",
   "metadata": {},
   "source": [
    "<span style=\"color:blue\">\n",
    "    \n",
    "Close to a one positive correlation, what a stae did one year they did about the same next year.  The outliers might be those who changed their participation rate by a large amount between years."
   ]
  },
  {
   "cell_type": "code",
   "execution_count": 94,
   "metadata": {},
   "outputs": [
    {
     "data": {
      "image/png": "[encoded data removed]",
      "text/plain": [
       "<Figure size 1152x648 with 1 Axes>"
      ]
     },
     "metadata": {
      "needs_background": "light"
     },
     "output_type": "display_data"
    }
   ],
   "source": [
    "plt.figure(figsize = (16, 9))\n",
    "plt.scatter(final_data['act17_composite'],\n",
    "           final_data['act18_composite']\n",
    "           )\n",
    "\n",
    "plt.title(\"Final scores between the ACT in 2017 and 2018\")\n",
    "plt.ylabel(\"ACT Composite score by State\", fontsize = 12)\n",
    "plt.xlabel(\"ACT Composite score by State\", fontsize = 12);"
   ]
  },
  {
   "cell_type": "markdown",
   "metadata": {},
   "source": [
    "<span style=\"color:blue\">\n",
    "    \n",
    "Similar to the SAT. Close to a one positive correlation, what a state did one year they did about the same next year.  \n"
   ]
  },
  {
   "cell_type": "markdown",
   "metadata": {},
   "source": [
    "#### Plot and interpret boxplots\n",
    "\n"
   ]
  },
  {
   "cell_type": "code",
   "execution_count": 95,
   "metadata": {},
   "outputs": [
    {
     "data": {
      "image/png": "[encoded data removed]",
      "text/plain": [
       "<Figure size 432x288 with 1 Axes>"
      ]
     },
     "metadata": {
      "needs_background": "light"
     },
     "output_type": "display_data"
    }
   ],
   "source": [
    "#from lesson 2.03\n",
    "\n",
    "sns.boxplot([final_data['sat17_participation'], final_data['sat18_participation'], final_data['sat19_participation']])\n",
    "plt.title('SAT Participation');"
   ]
  },
  {
   "cell_type": "markdown",
   "metadata": {},
   "source": [
    "<span style=\"color:blue\">\n",
    "    \n",
    "Sat participation shows no great outliers"
   ]
  },
  {
   "cell_type": "code",
   "execution_count": 96,
   "metadata": {},
   "outputs": [
    {
     "data": {
      "image/png": "[encoded data removed]",
      "text/plain": [
       "<Figure size 432x288 with 1 Axes>"
      ]
     },
     "metadata": {
      "needs_background": "light"
     },
     "output_type": "display_data"
    }
   ],
   "source": [
    "sns.boxplot([final_data['act17_participation'], final_data['act18_participation'], final_data['act19_participation']])\n",
    "plt.title('ACT Participation');"
   ]
  },
  {
   "cell_type": "markdown",
   "metadata": {},
   "source": [
    "<span style=\"color:blue\">\n",
    "    \n",
    "ACT participation is greater overall than SAT"
   ]
  },
  {
   "cell_type": "code",
   "execution_count": 97,
   "metadata": {},
   "outputs": [
    {
     "data": {
      "image/png": "[encoded data removed]",
      "text/plain": [
       "<Figure size 432x288 with 1 Axes>"
      ]
     },
     "metadata": {
      "needs_background": "light"
     },
     "output_type": "display_data"
    }
   ],
   "source": [
    "sns.boxplot([final_data['sat17_math'],\n",
    "                         final_data['sat17_writing'],\n",
    "                         final_data['sat18_math'], \n",
    "                         final_data['sat18_writing'],\n",
    "                         final_data['sat19_math'],\n",
    "                         final_data['sat19_writing']]);\n",
    "\n",
    "plt.title('SAT Values for writing and math over all years');"
   ]
  },
  {
   "cell_type": "markdown",
   "metadata": {},
   "source": [
    "<span style=\"color:blue\">\n",
    "    \n",
    "SAT values for math and writing stay in a confined range even over the years with no major outliers."
   ]
  },
  {
   "cell_type": "code",
   "execution_count": 98,
   "metadata": {},
   "outputs": [
    {
     "data": {
      "image/png": "[encoded data removed]",
      "text/plain": [
       "<Figure size 432x288 with 1 Axes>"
      ]
     },
     "metadata": {
      "needs_background": "light"
     },
     "output_type": "display_data"
    }
   ],
   "source": [
    "sns.boxplot([final_data['sat17_total'], final_data['sat18_total'], final_data['sat19_total']])\n",
    "plt.title('SAT Total');"
   ]
  },
  {
   "cell_type": "markdown",
   "metadata": {},
   "source": [
    "<span style=\"color:blue\">\n",
    "    \n",
    "Similar to the individual values the total value does not show any great outliers."
   ]
  },
  {
   "cell_type": "code",
   "execution_count": 99,
   "metadata": {},
   "outputs": [
    {
     "data": {
      "image/png": "[encoded data removed]",
      "text/plain": [
       "<Figure size 432x288 with 1 Axes>"
      ]
     },
     "metadata": {
      "needs_background": "light"
     },
     "output_type": "display_data"
    }
   ],
   "source": [
    "sns.boxplot([final_data['act17_composite'], final_data['act18_composite'], final_data['act19_composite']])\n",
    "plt.title('ACT Composite');"
   ]
  },
  {
   "cell_type": "markdown",
   "metadata": {},
   "source": [
    "<span style=\"color:blue\">\n",
    "\n",
    "ACT composite data has no obvious outliers and stays in an acceptable range with known possible values."
   ]
  },
  {
   "cell_type": "code",
   "execution_count": 100,
   "metadata": {},
   "outputs": [
    {
     "data": {
      "image/png": "[encoded data removed]",
      "text/plain": [
       "<Figure size 432x288 with 1 Axes>"
      ]
     },
     "metadata": {
      "needs_background": "light"
     },
     "output_type": "display_data"
    }
   ],
   "source": [
    "sns.boxplot([final_data['act17_math'],\n",
    "             final_data['act17_science'],\n",
    "             final_data['act17_reading'],\n",
    "            final_data['act17_english']])\n",
    "plt.title('ACT 2017 scores for all subjects');"
   ]
  },
  {
   "cell_type": "markdown",
   "metadata": {},
   "source": [
    "<span style=\"color:blue\">\n",
    "    \n",
    "ACT individual scores are like the composite score with no obvious outliers"
   ]
  },
  {
   "cell_type": "code",
   "execution_count": null,
   "metadata": {},
   "outputs": [],
   "source": []
  },
  {
   "cell_type": "markdown",
   "metadata": {},
   "source": [
    "#### Additional Plots\n"
   ]
  },
  {
   "cell_type": "code",
   "execution_count": 220,
   "metadata": {},
   "outputs": [
    {
     "data": {
      "image/png": "[encoded data removed]",
      "text/plain": [
       "<Figure size 864x504 with 1 Axes>"
      ]
     },
     "metadata": {
      "needs_background": "light"
     },
     "output_type": "display_data"
    }
   ],
   "source": [
    "# code from https://kite.com/python/answers/how-to-plot-a-line-of-best-fit-in-python\n",
    "\n",
    "plt.figure(figsize = (12, 7))\n",
    "plt.scatter(final_data['sat17_participation'],\n",
    "           final_data['act17_participation']\n",
    "           )\n",
    "\n",
    "m, b = np.polyfit(final_data['sat17_participation'], final_data['act17_participation'], 1)\n",
    "\n",
    "plt.plot(final_data['sat17_participation'], m*final_data['sat17_participation'] + b, color='orange')\n",
    "\n",
    "plt.title(\"Participation comparison between SAT and ACT in 2017\", fontsize = 20)\n",
    "plt.ylabel(\"ACT participation percent by State\", fontsize = 12)\n",
    "plt.xlabel(\"SAT participation percent by State\", fontsize = 12);\n",
    "plt.savefig('./../images/par_par17.png')"
   ]
  },
  {
   "cell_type": "markdown",
   "metadata": {},
   "source": [
    "<span style=\"color:blue\">\n",
    "\n",
    "Negative correlation between test participation shown with a line"
   ]
  },
  {
   "cell_type": "code",
   "execution_count": 216,
   "metadata": {},
   "outputs": [
    {
     "data": {
      "image/png": "[encoded data removed]",
      "text/plain": [
       "<Figure size 864x504 with 1 Axes>"
      ]
     },
     "metadata": {
      "needs_background": "light"
     },
     "output_type": "display_data"
    }
   ],
   "source": [
    "plt.figure(figsize = (12, 7))\n",
    "plt.scatter(final_data['sat17_participation'],\n",
    "           final_data['sat17_total']\n",
    "           )\n",
    "\n",
    "\n",
    "\n",
    "plt.title(\"Participation effect on mean SAT state scores 2017\", fontsize = 20)\n",
    "plt.ylabel(\"SAT mean overall state score\", fontsize = 12)\n",
    "plt.xlabel(\"SAT participation percent by State\", fontsize = 12);\n",
    "plt.savefig('./../images/par_score17.png')"
   ]
  },
  {
   "cell_type": "markdown",
   "metadata": {},
   "source": [
    "<span style=\"color:blue\">\n",
    "\n",
    "A plot to show how incresed SAT participation reduces SAT total scores."
   ]
  },
  {
   "cell_type": "code",
   "execution_count": 178,
   "metadata": {},
   "outputs": [
    {
     "data": {
      "image/png": "[encoded data removed]",
      "text/plain": [
       "<Figure size 1152x648 with 1 Axes>"
      ]
     },
     "metadata": {
      "needs_background": "light"
     },
     "output_type": "display_data"
    }
   ],
   "source": [
    "# from lesson 2.02b\n",
    "\n",
    "plt.figure(figsize = (16, 9))\n",
    "\n",
    "\n",
    "plt.plot([2017, 2018, 2019],\n",
    "         final_data.loc[final_data['state'] == 'Colorado',['sat17_participation', 'sat18_participation', 'sat19_participation']].T, # x axis\n",
    "         label = 'Colorado'\n",
    "        )\n",
    "\n",
    "plt.plot([2017, 2018, 2019],\n",
    "         final_data.loc[final_data['state'] == 'Rhode Island',['sat17_participation', 'sat18_participation', 'sat19_participation']].T, # x axis\n",
    "         label = 'Rhode Island'\n",
    "        )\n",
    "\n",
    "plt.plot([2017, 2018, 2019],\n",
    "         final_data.loc[final_data['state'] == 'Illinois',['sat17_participation', 'sat18_participation', 'sat19_participation']].T, # x axis\n",
    "         label = 'Illinois'\n",
    "        )\n",
    "\n",
    "plt.title('Participation by state per year')\n",
    "plt.ylabel('Participation percent')\n",
    "plt.xlabel('Test Years')\n",
    "plt.legend(loc = 'lower right', fontsize = 'large');"
   ]
  },
  {
   "cell_type": "code",
   "execution_count": 205,
   "metadata": {},
   "outputs": [
    {
     "data": {
      "image/png": "[encoded data removed]",
      "text/plain": [
       "<Figure size 432x288 with 1 Axes>"
      ]
     },
     "metadata": {
      "needs_background": "light"
     },
     "output_type": "display_data"
    }
   ],
   "source": [
    "plt.bar([2017, 2018, 2019],\n",
    "         [int(final_data[final_data['state'] == 'Colorado']['sat17_participation']),int(final_data[final_data['state'] == 'Colorado']['sat18_participation']),int(final_data[final_data['state'] == 'Colorado']['sat19_participation'])], \n",
    "         );\n",
    "\n",
    "plt.title('Participation in Colorado per year')\n",
    "plt.ylabel('Participation percent')\n",
    "plt.xticks((2017,2018,2019))\n",
    "plt.xlabel('Test Years');\n",
    "plt.savefig('./../images/par_CO.png')"
   ]
  },
  {
   "cell_type": "code",
   "execution_count": 206,
   "metadata": {},
   "outputs": [
    {
     "data": {
      "image/png": "[encoded data removed]",
      "text/plain": [
       "<Figure size 432x288 with 1 Axes>"
      ]
     },
     "metadata": {
      "needs_background": "light"
     },
     "output_type": "display_data"
    }
   ],
   "source": [
    "plt.bar([2017, 2018, 2019],\n",
    "         [int(final_data[final_data['state'] == 'Rhode Island']['sat17_participation']),int(final_data[final_data['state'] == 'Rhode Island']['sat18_participation']),int(final_data[final_data['state'] == 'Rhode Island']['sat19_participation'])], \n",
    "         );\n",
    "\n",
    "plt.title('Participation in Rhode Island per year')\n",
    "plt.ylabel('Participation percent')\n",
    "plt.xticks((2017,2018,2019))\n",
    "plt.xlabel('Test Years');\n",
    "plt.savefig('./../images/par_RI.png')"
   ]
  },
  {
   "cell_type": "code",
   "execution_count": 207,
   "metadata": {},
   "outputs": [
    {
     "data": {
      "image/png": "[encoded data removed]",
      "text/plain": [
       "<Figure size 432x288 with 1 Axes>"
      ]
     },
     "metadata": {
      "needs_background": "light"
     },
     "output_type": "display_data"
    }
   ],
   "source": [
    "plt.bar([2017, 2018, 2019],\n",
    "         [int(final_data[final_data['state'] == 'Illinois']['sat17_participation']),int(final_data[final_data['state'] == 'Illinois']['sat18_participation']),int(final_data[final_data['state'] == 'Illinois']['sat19_participation'])], \n",
    "         );\n",
    "\n",
    "plt.title('Participation in Illinois per year')\n",
    "plt.ylabel('Participation percent')\n",
    "plt.xticks((2017,2018,2019))\n",
    "plt.xlabel('Test Years');\n",
    "plt.savefig('./../images/par_IL.png')"
   ]
  },
  {
   "cell_type": "markdown",
   "metadata": {},
   "source": [
    "<span style=\"color:blue\">\n",
    "    \n",
    "    \n",
    "Ploting the Participation in certain cities based on the year observed to show the change in the 3 main cities."
   ]
  },
  {
   "cell_type": "markdown",
   "metadata": {},
   "source": [
    "#### (Optional): Using Tableau, create a choropleth map for each variable using a map of the US. \n",
    "\n",
    "Save this plot as an image file in an images directory, provide a relative path, and insert the image into notebook in markdown."
   ]
  },
  {
   "cell_type": "markdown",
   "metadata": {},
   "source": [
    "<span style=\"color:blue\">\n",
    "    \n",
    "Did not get around to this."
   ]
  },
  {
   "cell_type": "markdown",
   "metadata": {},
   "source": [
    "## Outside Research"
   ]
  },
  {
   "cell_type": "markdown",
   "metadata": {},
   "source": [
    "<span style=\"color:blue\">\n",
    "\n",
    "https://co.chalkbeat.org/2015/12/23/21092477/goodbye-act-hello-sat-a-significant-change-for-colorado-high-schoolers\n",
    "\n",
    "Talks about Colorado switching because the SAT aligns with Common Core and how they are using the SAT in place of a general assessment test in this case the PARCC.\n",
    "    \n",
    "https://www.providencejournal.com/news/20181025/with-sat-required-ri-sees-jump-in-participation-decline-in-scores#:~:text=PROVIDENCE%2C%20R.I.%20%E2%80%94%20Ninety%2Dfive,take%20the%20college%20admission%20test.\n",
    "    \n",
    "Talks about Rhode Island moving to a mandatory SAT to replace the state assesment which was the PARCC.\n",
    "    \n",
    "https://www.govtech.com/education/k-12/Illinois-Pulls-Out-of-PARCC-Test.html\n",
    "    \n",
    "Illinois replaces the PARCC with the SAT\n",
    "\n",
    "https://www.hanoverresearch.com/media/Best-Practices-to-Increase-SAT-Participation-1.pdf\n",
    "\n",
    "Discusses ways to increase participation in the test both by direct and indirect means\n",
    "\n",
    "https://blog.prepscholar.com/which-states-require-the-sat\n",
    "\n",
    "lists states that require the SAT as a reference\n",
    "\n",
    "https://www.testive.com/state-sat-act/\n",
    "\n",
    "Talks about testing as a replacement for assement tests and which place requires which test\n",
    "\n",
    "https://magoosh.com/hs/sat/sat-scores/2018/average-sat-scores-by-state-how-does-your-state-stack-up/\n",
    "\n",
    "discusses average SAT scores and what they mean to a state\n"
   ]
  },
  {
   "cell_type": "markdown",
   "metadata": {},
   "source": [
    "## Conclusions and Recommendations"
   ]
  },
  {
   "cell_type": "markdown",
   "metadata": {},
   "source": [
    "Based on your exploration of the data, what are you key takeaways and recommendations? Choose one state with a lower participation rate and provide a suggestion for how the College Board might increase participation amongst graduating seniors in this state. Are there additional data you desire that would better inform your investigations?"
   ]
  },
  {
   "cell_type": "markdown",
   "metadata": {},
   "source": [
    "<span style=\"color:blue\">\n",
    "\n",
    "Three states had points of interest to my investigation of the data. Colorado, Rhode Island and Illinois all had low participation in 2017 but near 100% for 2018 and 2019.  The reasons for this seem to involve a change from an already state mandated test, so the funding for State testing was already in place, and changing the way that school assessment testing is done in the state.\n",
    "    \n",
    "The SAT is able to offer solutions to these problem for the state by partnering with a state and giving them a way to do assessment testing using the SAT as a replacement for other tests. This also gives students a test that they can use for college admissions and state colleges a way to judge the progress of students across the whole state. That way colleges can tailor admissions to pull in more in state students and raise admissions.\n",
    "\n",
    "Louisiana could be a good state to target for future SAT expansion.  They have a mandated ACT so the funding is already there.  They use a modified PARCC which other states walked away from and replaced with the SAT.  They are a Common Core state and the new SAT that uses a Common Core background will fit in with their state standards."
   ]
  },
  {
   "cell_type": "markdown",
   "metadata": {},
   "source": [
    "## What Next"
   ]
  },
  {
   "cell_type": "markdown",
   "metadata": {},
   "source": [
    "<span style=\"color:blue\">\n",
    "\n",
    "Things I would like to look into as the project continues:\n",
    "- Which states have problems with their current assessment tests and could be moved to change?\n",
    "- Some colleges are droping ACT and SAT requirements, how will this effect state view on testing?\n",
    "- Other factors that might incentivize states to offer SAT programs like low income areas or low college participation.\n",
    "- How much does offering college prep options help a student to decide to take the test.\n"
   ]
  },
  {
   "cell_type": "markdown",
   "metadata": {},
   "source": [
    "## Bonus: Descriptive and Inferential Statistics"
   ]
  },
  {
   "cell_type": "markdown",
   "metadata": {},
   "source": [
    "#### Summarizing Distributions\n",
    "\n",
    "Above, we used pandas `describe` to provide quick summary statistics of our numeric columns. We also demonstrated many visual relationships.\n",
    "\n",
    "As data scientists, having a complete understanding of data is imperative prior to modeling.\n",
    "\n",
    "While we will continue to build our analytic tools, we know that measures of *central tendency*, *spread*, and *shape/skewness* provide a quick summary of distributions.\n",
    "\n",
    "For each variable in your data, summarize the underlying distributions (in words & statistics)\n",
    " - Be thorough in your verbal description of these distributions.\n",
    " - Be sure to back up these summaries with statistics."
   ]
  },
  {
   "cell_type": "markdown",
   "metadata": {},
   "source": [
    "Answers:"
   ]
  },
  {
   "cell_type": "markdown",
   "metadata": {},
   "source": [
    "#### We generally assuming that data we sample from a population will be normally distributed. Do we observe this trend?"
   ]
  },
  {
   "cell_type": "markdown",
   "metadata": {},
   "source": [
    "Answer:"
   ]
  },
  {
   "cell_type": "markdown",
   "metadata": {},
   "source": [
    "Does This Assumption Hold for:\n",
    "    - Math\n",
    "    - Reading\n",
    "    - Rates\n",
    "Explain your answers for each distribution and how you think this will affect estimates made from these data."
   ]
  },
  {
   "cell_type": "markdown",
   "metadata": {},
   "source": [
    "Answer:"
   ]
  },
  {
   "cell_type": "markdown",
   "metadata": {},
   "source": [
    "#### Estimate Limits of Data\n",
    "\n",
    "Suppose we only seek to understand the relationship between SAT and ACT participation rates in 2017. \n",
    "\n",
    "##### Does it make sense to conduct statistical inference given these data specifically? \n",
    "\n",
    "Why or why not?\n",
    "\n",
    "*(think about granularity, aggregation, the relationships between populations size & rates...consider the actually populations these data describe in answering this question)*"
   ]
  },
  {
   "cell_type": "markdown",
   "metadata": {},
   "source": [
    "Answer:"
   ]
  },
  {
   "cell_type": "markdown",
   "metadata": {},
   "source": [
    "##### Is it appropriate to compare *these* specific SAT and ACT math scores? \n",
    "\n",
    "Why or why not?"
   ]
  },
  {
   "cell_type": "markdown",
   "metadata": {},
   "source": [
    "Answer:"
   ]
  },
  {
   "cell_type": "markdown",
   "metadata": {},
   "source": [
    "#### Statistical Evaluation of Distributions \n",
    "\n",
    "**If you feel it's appropriate**, using methods we discussed in class, run hypothesis tests to compare variables of interest in our dataset. "
   ]
  },
  {
   "cell_type": "code",
   "execution_count": 101,
   "metadata": {},
   "outputs": [],
   "source": [
    "# Code:"
   ]
  }
 ],
 "metadata": {
  "anaconda-cloud": {},
  "kernelspec": {
   "display_name": "Python 3",
   "language": "python",
   "name": "python3"
  },
  "language_info": {
   "codemirror_mode": {
    "name": "ipython",
    "version": 3
   },
   "file_extension": ".py",
   "mimetype": "text/x-python",
   "name": "python",
   "nbconvert_exporter": "python",
   "pygments_lexer": "ipython3",
   "version": "3.7.7"
  }
 },
 "nbformat": 4,
 "nbformat_minor": 2
}
